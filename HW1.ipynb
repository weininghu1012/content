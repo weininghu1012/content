{
 "cells": [
  {
   "cell_type": "markdown",
   "metadata": {},
   "source": [
    "# Homework 1. Which of two things is larger?\n",
    "\n",
    "Due: Thursday, September 19, 11:59 PM\n",
    "\n",
    "<a href=https://raw.github.com/cs109/content/master/HW1.ipynb download=HW1.ipynb> Download this assignment</a>\n",
    "\n",
    "---"
   ]
  },
  {
   "cell_type": "markdown",
   "metadata": {},
   "source": [
    "Useful libraries for this assignment\n",
    "\n",
    "* [numpy](http://docs.scipy.org/doc/numpy-dev/user/index.html), for arrays\n",
    "* [pandas](http://pandas.pydata.org/), for data frames\n",
    "* [matplotlib](http://matplotlib.org/), for plotting\n",
    "* [requests](http://docs.python-requests.org/en/latest/), for downloading web content\n",
    "* [pattern](http://www.clips.ua.ac.be/pages/pattern), for parsing html and xml pages\n",
    "* [fnmatch](http://docs.python.org/2/library/fnmatch.html) (optional), for Unix-style string matching"
   ]
  },
  {
   "cell_type": "code",
   "execution_count": 1,
   "metadata": {
    "collapsed": false
   },
   "outputs": [
    {
     "name": "stderr",
     "output_type": "stream",
     "text": [
      "/Users/weininghu/anaconda/lib/python2.7/site-packages/matplotlib/__init__.py:872: UserWarning: axes.color_cycle is deprecated and replaced with axes.prop_cycle; please use the latter.\n",
      "  warnings.warn(self.msg_depr % (key, alt_key))\n"
     ]
    }
   ],
   "source": [
    "# special IPython command to prepare the notebook for matplotlib\n",
    "%matplotlib inline \n",
    "\n",
    "from fnmatch import fnmatch\n",
    "\n",
    "import numpy as np\n",
    "import pandas as pd\n",
    "import matplotlib.pyplot as plt\n",
    "import requests\n",
    "from pattern import web\n",
    "\n",
    "\n",
    "# set some nicer defaults for matplotlib\n",
    "from matplotlib import rcParams\n",
    "\n",
    "#these colors come from colorbrewer2.org. Each is an RGB triplet\n",
    "dark2_colors = [(0.10588235294117647, 0.6196078431372549, 0.4666666666666667),\n",
    "                (0.8509803921568627, 0.37254901960784315, 0.00784313725490196),\n",
    "                (0.4588235294117647, 0.4392156862745098, 0.7019607843137254),\n",
    "                (0.9058823529411765, 0.1607843137254902, 0.5411764705882353),\n",
    "                (0.4, 0.6509803921568628, 0.11764705882352941),\n",
    "                (0.9019607843137255, 0.6705882352941176, 0.00784313725490196),\n",
    "                (0.6509803921568628, 0.4627450980392157, 0.11372549019607843),\n",
    "                (0.4, 0.4, 0.4)]\n",
    "\n",
    "rcParams['figure.figsize'] = (10, 6)\n",
    "rcParams['figure.dpi'] = 150\n",
    "rcParams['axes.color_cycle'] = dark2_colors\n",
    "rcParams['lines.linewidth'] = 2\n",
    "rcParams['axes.grid'] = True\n",
    "rcParams['axes.facecolor'] = '#eeeeee'\n",
    "rcParams['font.size'] = 14\n",
    "rcParams['patch.edgecolor'] = 'none'"
   ]
  },
  {
   "cell_type": "markdown",
   "metadata": {},
   "source": [
    "## Introduction\n",
    "\n",
    "This was the [XKCD comic](http://xkcd.com/1131/) after the 2012 Presidential election:\n",
    "\n",
    "<img src=\"http://imgs.xkcd.com/comics/math.png\">"
   ]
  },
  {
   "cell_type": "markdown",
   "metadata": {},
   "source": [
    "The comic refers to the fact that Nate Silver's statistical model (which is based mostly on combining information from pre-election polls) correctly predicted the outcome of the 2012 presidential race in all 50 states. \n",
    "\n",
    "Polling data isn't a perfect predictor for the future, and some polls are more accurate than others. This means that election forecastors must consider prediction uncertainty when building models.\n",
    "\n",
    "In this first assignment, you will perform a simple analysis of polling data about the upcoming <a href=\"http://en.wikipedia.org/wiki/Governor_(United_States)\">Governor races</a>. The assignment has three main parts:\n",
    "\n",
    "**First** you will build some tools to download historical polling data from the web, and parse it into a more convenient format. \n",
    "\n",
    "**Next** you will use these tools to aggregate and visualize several past Governor races\n",
    "\n",
    "**Finally** you will run a bootstrap analysis to estimate the probable outcome of current Governor races, given the level of precision of historical polls.\n",
    "\n",
    "---"
   ]
  },
  {
   "cell_type": "markdown",
   "metadata": {},
   "source": [
    "\n",
    "\n",
    "## Part 1: Collect and Clean\n",
    "\n",
    "The [Real Clear Politics](http://www.realclearpolitics.com) website archives many political polls. In addition, they combine related polls to form an \"RCP average\" estimate of public opinion over time. For example, the chart on [this page](http://www.realclearpolitics.com/epolls/2012/president/us/general_election_romney_vs_obama-1171.html) shows historical polling data for the Obama-Romney presidential race. The chart is an average of the polling data table below the chart.\n",
    "\n",
    "The data used to generate plots like this are stored as XML pages, with URLs like:\n",
    "\n",
    "http://charts.realclearpolitics.com/charts/[id].xml\n",
    "\n",
    "Here, [id] is a unique integer, found at the end of the URL of the page that displays the graph. The id for the Obama-Romney race is 1171:\n",
    "\n",
    "http://charts.realclearpolitics.com/charts/1171.xml\n",
    "\n",
    "Opening this page in Google Chrome or Firefox will show you the XML content in an easy-to-read format. Notice that XML tags are nested inside each other, hierarchically (the jargony term for this is the \"Document Object Model\", or \"DOM\"). The first step of webscraping is almost always exploring the HTML/XML source in a browser, and getting a sense of this hierarchy.\n",
    "\n",
    "---\n",
    "\n",
    "#### Problem 0\n",
    "\n",
    "The above XML page includes 5 distinct tags (one, for example, is `chart`). List these tags, and depict how they nest inside each other using an indented list. For example:\n",
    "\n",
    "* Page\n",
    "  * Section\n",
    "     * Paragraph\n",
    "  * Conclusion"
   ]
  },
  {
   "cell_type": "markdown",
   "metadata": {},
   "source": [
    "\n",
    "*Your Answer Here*\n"
   ]
  },
  {
   "cell_type": "markdown",
   "metadata": {},
   "source": [
    "---\n",
    "#### Problem 1\n",
    "\n",
    "We want to download and work with poll data like this. Like most programming tasks, we will break this into many smaller, easier pieces\n",
    "\n",
    "Fill in the code for the `get_poll_xml` function, that finds and downloads an XML page discussed above\n",
    "\n",
    "**Hint** \n",
    "\n",
    "`requests.get(\"http://www.google.com\").text` downloads the text from Google's homepage"
   ]
  },
  {
   "cell_type": "code",
   "execution_count": 2,
   "metadata": {
    "collapsed": false
   },
   "outputs": [
    {
     "data": {
      "text/plain": [
       "u'<?xml version=\"1.0\" encoding=\"UTF-8\"?><chart><series><value xid=\\'0\\'>2/01/2011</value><value xid=\\'1\\'>2/02/2011</value><value xid=\\'2\\'>2/03/2011</value><value xid=\\'3\\'>2/04/2011</value><value xid=\\'4\\'>2/05/2011</value><value xid=\\'5\\'>2/06/2011</value><value xid=\\'6\\'>2/07/2011</value><value xid=\\'7\\'>2/08/2011</value><value xid=\\'8\\'>2/09/2011</value><value xid=\\'9\\'>2/10/2011</value><value xid=\\'10\\'>2/11/2011</value><value xid=\\'11\\'>2/12/2011</value><value xid=\\'12\\'>2/13/2011</value><value xid=\\'13\\'>2/14/2011</value><value xid=\\'14\\'>2/15/2011</value><value xid=\\'15\\'>2/16/2011</value><value xid=\\'16\\'>2/17/2011</value><value xid=\\'17\\'>2/18/2011</value><value xid=\\'18\\'>2/19/2011</value><value xid=\\'19\\'>2/20/2011</value><value xid=\\'20\\'>2/21/2011</value><value xid=\\'21\\'>2/22/2011</value><value xid=\\'22\\'>2/23/2011</value><value xid=\\'23\\'>2/24/2011</value><value xid=\\'24\\'>2/25/2011</value><value xid=\\'25\\'>2/26/2011</value><value xid=\\'26\\'>2/27/2011</value><value xid=\\'27\\'>2/28/2011</value><value xid=\\'28\\'>3/01/2011</value><value xid=\\'29\\'>3/02/2011</value><value xid=\\'30\\'>3/03/2011</value><value xid=\\'31\\'>3/04/2011</value><value xid=\\'32\\'>3/05/2011</value><value xid=\\'33\\'>3/06/2011</value><value xid=\\'34\\'>3/07/2011</value><value xid=\\'35\\'>3/08/2011</value><value xid=\\'36\\'>3/09/2011</value><value xid=\\'37\\'>3/10/2011</value><value xid=\\'38\\'>3/11/2011</value><value xid=\\'39\\'>3/12/2011</value><value xid=\\'40\\'>3/13/2011</value><value xid=\\'41\\'>3/14/2011</value><value xid=\\'42\\'>3/15/2011</value><value xid=\\'43\\'>3/16/2011</value><value xid=\\'44\\'>3/17/2011</value><value xid=\\'45\\'>3/18/2011</value><value xid=\\'46\\'>3/19/2011</value><value xid=\\'47\\'>3/20/2011</value><value xid=\\'48\\'>3/21/2011</value><value xid=\\'49\\'>3/22/2011</value><value xid=\\'50\\'>3/23/2011</value><value xid=\\'51\\'>3/24/2011</value><value xid=\\'52\\'>3/25/2011</value><value xid=\\'53\\'>3/26/2011</value><value xid=\\'54\\'>3/27/2011</value><value xid=\\'55\\'>3/28/2011</value><value xid=\\'56\\'>3/29/2011</value><value xid=\\'57\\'>3/30/2011</value><value xid=\\'58\\'>3/31/2011</value><value xid=\\'59\\'>4/01/2011</value><value xid=\\'60\\'>4/02/2011</value><value xid=\\'61\\'>4/03/2011</value><value xid=\\'62\\'>4/04/2011</value><value xid=\\'63\\'>4/05/2011</value><value xid=\\'64\\'>4/06/2011</value><value xid=\\'65\\'>4/07/2011</value><value xid=\\'66\\'>4/08/2011</value><value xid=\\'67\\'>4/09/2011</value><value xid=\\'68\\'>4/10/2011</value><value xid=\\'69\\'>4/11/2011</value><value xid=\\'70\\'>4/12/2011</value><value xid=\\'71\\'>4/13/2011</value><value xid=\\'72\\'>4/14/2011</value><value xid=\\'73\\'>4/15/2011</value><value xid=\\'74\\'>4/16/2011</value><value xid=\\'75\\'>4/17/2011</value><value xid=\\'76\\'>4/18/2011</value><value xid=\\'77\\'>4/19/2011</value><value xid=\\'78\\'>4/20/2011</value><value xid=\\'79\\'>4/21/2011</value><value xid=\\'80\\'>4/22/2011</value><value xid=\\'81\\'>4/23/2011</value><value xid=\\'82\\'>4/24/2011</value><value xid=\\'83\\'>4/25/2011</value><value xid=\\'84\\'>4/26/2011</value><value xid=\\'85\\'>4/27/2011</value><value xid=\\'86\\'>4/28/2011</value><value xid=\\'87\\'>4/29/2011</value><value xid=\\'88\\'>4/30/2011</value><value xid=\\'89\\'>5/01/2011</value><value xid=\\'90\\'>5/02/2011</value><value xid=\\'91\\'>5/03/2011</value><value xid=\\'92\\'>5/04/2011</value><value xid=\\'93\\'>5/05/2011</value><value xid=\\'94\\'>5/06/2011</value><value xid=\\'95\\'>5/07/2011</value><value xid=\\'96\\'>5/08/2011</value><value xid=\\'97\\'>5/09/2011</value><value xid=\\'98\\'>5/10/2011</value><value xid=\\'99\\'>5/11/2011</value><value xid=\\'100\\'>5/12/2011</value><value xid=\\'101\\'>5/13/2011</value><value xid=\\'102\\'>5/14/2011</value><value xid=\\'103\\'>5/15/2011</value><value xid=\\'104\\'>5/16/2011</value><value xid=\\'105\\'>5/17/2011</value><value xid=\\'106\\'>5/18/2011</value><value xid=\\'107\\'>5/19/2011</value><value xid=\\'108\\'>5/20/2011</value><value xid=\\'109\\'>5/21/2011</value><value xid=\\'110\\'>5/22/2011</value><value xid=\\'111\\'>5/23/2011</value><value xid=\\'112\\'>5/24/2011</value><value xid=\\'113\\'>5/25/2011</value><value xid=\\'114\\'>5/26/2011</value><value xid=\\'115\\'>5/27/2011</value><value xid=\\'116\\'>5/28/2011</value><value xid=\\'117\\'>5/29/2011</value><value xid=\\'118\\'>5/30/2011</value><value xid=\\'119\\'>5/31/2011</value><value xid=\\'120\\'>6/01/2011</value><value xid=\\'121\\'>6/02/2011</value><value xid=\\'122\\'>6/03/2011</value><value xid=\\'123\\'>6/04/2011</value><value xid=\\'124\\'>6/05/2011</value><value xid=\\'125\\'>6/06/2011</value><value xid=\\'126\\'>6/07/2011</value><value xid=\\'127\\'>6/08/2011</value><value xid=\\'128\\'>6/09/2011</value><value xid=\\'129\\'>6/10/2011</value><value xid=\\'130\\'>6/11/2011</value><value xid=\\'131\\'>6/12/2011</value><value xid=\\'132\\'>6/13/2011</value><value xid=\\'133\\'>6/14/2011</value><value xid=\\'134\\'>6/15/2011</value><value xid=\\'135\\'>6/16/2011</value><value xid=\\'136\\'>6/17/2011</value><value xid=\\'137\\'>6/18/2011</value><value xid=\\'138\\'>6/19/2011</value><value xid=\\'139\\'>6/20/2011</value><value xid=\\'140\\'>6/21/2011</value><value xid=\\'141\\'>6/22/2011</value><value xid=\\'142\\'>6/23/2011</value><value xid=\\'143\\'>6/24/2011</value><value xid=\\'144\\'>6/25/2011</value><value xid=\\'145\\'>6/26/2011</value><value xid=\\'146\\'>6/27/2011</value><value xid=\\'147\\'>6/28/2011</value><value xid=\\'148\\'>6/29/2011</value><value xid=\\'149\\'>6/30/2011</value><value xid=\\'150\\'>7/01/2011</value><value xid=\\'151\\'>7/02/2011</value><value xid=\\'152\\'>7/03/2011</value><value xid=\\'153\\'>7/04/2011</value><value xid=\\'154\\'>7/05/2011</value><value xid=\\'155\\'>7/06/2011</value><value xid=\\'156\\'>7/07/2011</value><value xid=\\'157\\'>7/08/2011</value><value xid=\\'158\\'>7/09/2011</value><value xid=\\'159\\'>7/10/2011</value><value xid=\\'160\\'>7/11/2011</value><value xid=\\'161\\'>7/12/2011</value><value xid=\\'162\\'>7/13/2011</value><value xid=\\'163\\'>7/14/2011</value><value xid=\\'164\\'>7/15/2011</value><value xid=\\'165\\'>7/16/2011</value><value xid=\\'166\\'>7/17/2011</value><value xid=\\'167\\'>7/18/2011</value><value xid=\\'168\\'>7/19/2011</value><value xid=\\'169\\'>7/20/2011</value><value xid=\\'170\\'>7/21/2011</value><value xid=\\'171\\'>7/22/2011</value><value xid=\\'172\\'>7/23/2011</value><value xid=\\'173\\'>7/24/2011</value><value xid=\\'174\\'>7/25/2011</value><value xid=\\'175\\'>7/26/2011</value><value xid=\\'176\\'>7/27/2011</value><value xid=\\'177\\'>7/28/2011</value><value xid=\\'178\\'>7/29/2011</value><value xid=\\'179\\'>7/30/2011</value><value xid=\\'180\\'>7/31/2011</value><value xid=\\'181\\'>8/01/2011</value><value xid=\\'182\\'>8/02/2011</value><value xid=\\'183\\'>8/03/2011</value><value xid=\\'184\\'>8/04/2011</value><value xid=\\'185\\'>8/05/2011</value><value xid=\\'186\\'>8/06/2011</value><value xid=\\'187\\'>8/07/2011</value><value xid=\\'188\\'>8/08/2011</value><value xid=\\'189\\'>8/09/2011</value><value xid=\\'190\\'>8/10/2011</value><value xid=\\'191\\'>8/11/2011</value><value xid=\\'192\\'>8/12/2011</value><value xid=\\'193\\'>8/13/2011</value><value xid=\\'194\\'>8/14/2011</value><value xid=\\'195\\'>8/15/2011</value><value xid=\\'196\\'>8/16/2011</value><value xid=\\'197\\'>8/17/2011</value><value xid=\\'198\\'>8/18/2011</value><value xid=\\'199\\'>8/19/2011</value><value xid=\\'200\\'>8/20/2011</value><value xid=\\'201\\'>8/21/2011</value><value xid=\\'202\\'>8/22/2011</value><value xid=\\'203\\'>8/23/2011</value><value xid=\\'204\\'>8/24/2011</value><value xid=\\'205\\'>8/25/2011</value><value xid=\\'206\\'>8/26/2011</value><value xid=\\'207\\'>8/27/2011</value><value xid=\\'208\\'>8/28/2011</value><value xid=\\'209\\'>8/29/2011</value><value xid=\\'210\\'>8/30/2011</value><value xid=\\'211\\'>8/31/2011</value><value xid=\\'212\\'>9/01/2011</value><value xid=\\'213\\'>9/02/2011</value><value xid=\\'214\\'>9/03/2011</value><value xid=\\'215\\'>9/04/2011</value><value xid=\\'216\\'>9/05/2011</value><value xid=\\'217\\'>9/06/2011</value><value xid=\\'218\\'>9/07/2011</value><value xid=\\'219\\'>9/08/2011</value><value xid=\\'220\\'>9/09/2011</value><value xid=\\'221\\'>9/10/2011</value><value xid=\\'222\\'>9/11/2011</value><value xid=\\'223\\'>9/12/2011</value><value xid=\\'224\\'>9/13/2011</value><value xid=\\'225\\'>9/14/2011</value><value xid=\\'226\\'>9/15/2011</value><value xid=\\'227\\'>9/16/2011</value><value xid=\\'228\\'>9/17/2011</value><value xid=\\'229\\'>9/18/2011</value><value xid=\\'230\\'>9/19/2011</value><value xid=\\'231\\'>9/20/2011</value><value xid=\\'232\\'>9/21/2011</value><value xid=\\'233\\'>9/22/2011</value><value xid=\\'234\\'>9/23/2011</value><value xid=\\'235\\'>9/24/2011</value><value xid=\\'236\\'>9/25/2011</value><value xid=\\'237\\'>9/26/2011</value><value xid=\\'238\\'>9/27/2011</value><value xid=\\'239\\'>9/28/2011</value><value xid=\\'240\\'>9/29/2011</value><value xid=\\'241\\'>9/30/2011</value><value xid=\\'242\\'>10/01/2011</value><value xid=\\'243\\'>10/02/2011</value><value xid=\\'244\\'>10/03/2011</value><value xid=\\'245\\'>10/04/2011</value><value xid=\\'246\\'>10/05/2011</value><value xid=\\'247\\'>10/06/2011</value><value xid=\\'248\\'>10/07/2011</value><value xid=\\'249\\'>10/08/2011</value><value xid=\\'250\\'>10/09/2011</value><value xid=\\'251\\'>10/10/2011</value><value xid=\\'252\\'>10/11/2011</value><value xid=\\'253\\'>10/12/2011</value><value xid=\\'254\\'>10/13/2011</value><value xid=\\'255\\'>10/14/2011</value><value xid=\\'256\\'>10/15/2011</value><value xid=\\'257\\'>10/16/2011</value><value xid=\\'258\\'>10/17/2011</value><value xid=\\'259\\'>10/18/2011</value><value xid=\\'260\\'>10/19/2011</value><value xid=\\'261\\'>10/20/2011</value><value xid=\\'262\\'>10/21/2011</value><value xid=\\'263\\'>10/22/2011</value><value xid=\\'264\\'>10/23/2011</value><value xid=\\'265\\'>10/24/2011</value><value xid=\\'266\\'>10/25/2011</value><value xid=\\'267\\'>10/26/2011</value><value xid=\\'268\\'>10/27/2011</value><value xid=\\'269\\'>10/28/2011</value><value xid=\\'270\\'>10/29/2011</value><value xid=\\'271\\'>10/30/2011</value><value xid=\\'272\\'>10/31/2011</value><value xid=\\'273\\'>11/01/2011</value><value xid=\\'274\\'>11/02/2011</value><value xid=\\'275\\'>11/03/2011</value><value xid=\\'276\\'>11/04/2011</value><value xid=\\'277\\'>11/05/2011</value><value xid=\\'278\\'>11/06/2011</value><value xid=\\'279\\'>11/07/2011</value><value xid=\\'280\\'>11/08/2011</value><value xid=\\'281\\'>11/09/2011</value><value xid=\\'282\\'>11/10/2011</value><value xid=\\'283\\'>11/11/2011</value><value xid=\\'284\\'>11/12/2011</value><value xid=\\'285\\'>11/13/2011</value><value xid=\\'286\\'>11/14/2011</value><value xid=\\'287\\'>11/15/2011</value><value xid=\\'288\\'>11/16/2011</value><value xid=\\'289\\'>11/17/2011</value><value xid=\\'290\\'>11/18/2011</value><value xid=\\'291\\'>11/19/2011</value><value xid=\\'292\\'>11/20/2011</value><value xid=\\'293\\'>11/21/2011</value><value xid=\\'294\\'>11/22/2011</value><value xid=\\'295\\'>11/23/2011</value><value xid=\\'296\\'>11/24/2011</value><value xid=\\'297\\'>11/25/2011</value><value xid=\\'298\\'>11/26/2011</value><value xid=\\'299\\'>11/27/2011</value><value xid=\\'300\\'>11/28/2011</value><value xid=\\'301\\'>11/29/2011</value><value xid=\\'302\\'>11/30/2011</value><value xid=\\'303\\'>12/01/2011</value><value xid=\\'304\\'>12/02/2011</value><value xid=\\'305\\'>12/03/2011</value><value xid=\\'306\\'>12/04/2011</value><value xid=\\'307\\'>12/05/2011</value><value xid=\\'308\\'>12/06/2011</value><value xid=\\'309\\'>12/07/2011</value><value xid=\\'310\\'>12/08/2011</value><value xid=\\'311\\'>12/09/2011</value><value xid=\\'312\\'>12/10/2011</value><value xid=\\'313\\'>12/11/2011</value><value xid=\\'314\\'>12/12/2011</value><value xid=\\'315\\'>12/13/2011</value><value xid=\\'316\\'>12/14/2011</value><value xid=\\'317\\'>12/15/2011</value><value xid=\\'318\\'>12/16/2011</value><value xid=\\'319\\'>12/17/2011</value><value xid=\\'320\\'>12/18/2011</value><value xid=\\'321\\'>12/19/2011</value><value xid=\\'322\\'>12/20/2011</value><value xid=\\'323\\'>12/21/2011</value><value xid=\\'324\\'>12/22/2011</value><value xid=\\'325\\'>12/23/2011</value><value xid=\\'326\\'>12/24/2011</value><value xid=\\'327\\'>12/25/2011</value><value xid=\\'328\\'>12/26/2011</value><value xid=\\'329\\'>12/27/2011</value><value xid=\\'330\\'>12/28/2011</value><value xid=\\'331\\'>12/29/2011</value><value xid=\\'332\\'>12/30/2011</value><value xid=\\'333\\'>12/31/2011</value><value xid=\\'334\\'>1/01/2012</value><value xid=\\'335\\'>1/02/2012</value><value xid=\\'336\\'>1/03/2012</value><value xid=\\'337\\'>1/04/2012</value><value xid=\\'338\\'>1/05/2012</value><value xid=\\'339\\'>1/06/2012</value><value xid=\\'340\\'>1/07/2012</value><value xid=\\'341\\'>1/08/2012</value><value xid=\\'342\\'>1/09/2012</value><value xid=\\'343\\'>1/10/2012</value><value xid=\\'344\\'>1/11/2012</value><value xid=\\'345\\'>1/12/2012</value><value xid=\\'346\\'>1/13/2012</value><value xid=\\'347\\'>1/14/2012</value><value xid=\\'348\\'>1/15/2012</value><value xid=\\'349\\'>1/16/2012</value><value xid=\\'350\\'>1/17/2012</value><value xid=\\'351\\'>1/18/2012</value><value xid=\\'352\\'>1/19/2012</value><value xid=\\'353\\'>1/20/2012</value><value xid=\\'354\\'>1/21/2012</value><value xid=\\'355\\'>1/22/2012</value><value xid=\\'356\\'>1/23/2012</value><value xid=\\'357\\'>1/24/2012</value><value xid=\\'358\\'>1/25/2012</value><value xid=\\'359\\'>1/26/2012</value><value xid=\\'360\\'>1/27/2012</value><value xid=\\'361\\'>1/28/2012</value><value xid=\\'362\\'>1/29/2012</value><value xid=\\'363\\'>1/30/2012</value><value xid=\\'364\\'>1/31/2012</value><value xid=\\'365\\'>2/01/2012</value><value xid=\\'366\\'>2/02/2012</value><value xid=\\'367\\'>2/03/2012</value><value xid=\\'368\\'>2/04/2012</value><value xid=\\'369\\'>2/05/2012</value><value xid=\\'370\\'>2/06/2012</value><value xid=\\'371\\'>2/07/2012</value><value xid=\\'372\\'>2/08/2012</value><value xid=\\'373\\'>2/09/2012</value><value xid=\\'374\\'>2/10/2012</value><value xid=\\'375\\'>2/11/2012</value><value xid=\\'376\\'>2/12/2012</value><value xid=\\'377\\'>2/13/2012</value><value xid=\\'378\\'>2/14/2012</value><value xid=\\'379\\'>2/15/2012</value><value xid=\\'380\\'>2/16/2012</value><value xid=\\'381\\'>2/17/2012</value><value xid=\\'382\\'>2/18/2012</value><value xid=\\'383\\'>2/19/2012</value><value xid=\\'384\\'>2/20/2012</value><value xid=\\'385\\'>2/21/2012</value><value xid=\\'386\\'>2/22/2012</value><value xid=\\'387\\'>2/23/2012</value><value xid=\\'388\\'>2/24/2012</value><value xid=\\'389\\'>2/25/2012</value><value xid=\\'390\\'>2/26/2012</value><value xid=\\'391\\'>2/27/2012</value><value xid=\\'392\\'>2/28/2012</value><value xid=\\'393\\'>2/29/2012</value><value xid=\\'394\\'>3/01/2012</value><value xid=\\'395\\'>3/02/2012</value><value xid=\\'396\\'>3/03/2012</value><value xid=\\'397\\'>3/04/2012</value><value xid=\\'398\\'>3/05/2012</value><value xid=\\'399\\'>3/06/2012</value><value xid=\\'400\\'>3/07/2012</value><value xid=\\'401\\'>3/08/2012</value><value xid=\\'402\\'>3/09/2012</value><value xid=\\'403\\'>3/10/2012</value><value xid=\\'404\\'>3/11/2012</value><value xid=\\'405\\'>3/12/2012</value><value xid=\\'406\\'>3/13/2012</value><value xid=\\'407\\'>3/14/2012</value><value xid=\\'408\\'>3/15/2012</value><value xid=\\'409\\'>3/16/2012</value><value xid=\\'410\\'>3/17/2012</value><value xid=\\'411\\'>3/18/2012</value><value xid=\\'412\\'>3/19/2012</value><value xid=\\'413\\'>3/20/2012</value><value xid=\\'414\\'>3/21/2012</value><value xid=\\'415\\'>3/22/2012</value><value xid=\\'416\\'>3/23/2012</value><value xid=\\'417\\'>3/24/2012</value><value xid=\\'418\\'>3/25/2012</value><value xid=\\'419\\'>3/26/2012</value><value xid=\\'420\\'>3/27/2012</value><value xid=\\'421\\'>3/28/2012</value><value xid=\\'422\\'>3/29/2012</value><value xid=\\'423\\'>3/30/2012</value><value xid=\\'424\\'>3/31/2012</value><value xid=\\'425\\'>4/01/2012</value><value xid=\\'426\\'>4/02/2012</value><value xid=\\'427\\'>4/03/2012</value><value xid=\\'428\\'>4/04/2012</value><value xid=\\'429\\'>4/05/2012</value><value xid=\\'430\\'>4/06/2012</value><value xid=\\'431\\'>4/07/2012</value><value xid=\\'432\\'>4/08/2012</value><value xid=\\'433\\'>4/09/2012</value><value xid=\\'434\\'>4/10/2012</value><value xid=\\'435\\'>4/11/2012</value><value xid=\\'436\\'>4/12/2012</value><value xid=\\'437\\'>4/13/2012</value><value xid=\\'438\\'>4/14/2012</value><value xid=\\'439\\'>4/15/2012</value><value xid=\\'440\\'>4/16/2012</value><value xid=\\'441\\'>4/17/2012</value><value xid=\\'442\\'>4/18/2012</value><value xid=\\'443\\'>4/19/2012</value><value xid=\\'444\\'>4/20/2012</value><value xid=\\'445\\'>4/21/2012</value><value xid=\\'446\\'>4/22/2012</value><value xid=\\'447\\'>4/23/2012</value><value xid=\\'448\\'>4/24/2012</value><value xid=\\'449\\'>4/25/2012</value><value xid=\\'450\\'>4/26/2012</value><value xid=\\'451\\'>4/27/2012</value><value xid=\\'452\\'>4/28/2012</value><value xid=\\'453\\'>4/29/2012</value><value xid=\\'454\\'>4/30/2012</value><value xid=\\'455\\'>5/01/2012</value><value xid=\\'456\\'>5/02/2012</value><value xid=\\'457\\'>5/03/2012</value><value xid=\\'458\\'>5/04/2012</value><value xid=\\'459\\'>5/05/2012</value><value xid=\\'460\\'>5/06/2012</value><value xid=\\'461\\'>5/07/2012</value><value xid=\\'462\\'>5/08/2012</value><value xid=\\'463\\'>5/09/2012</value><value xid=\\'464\\'>5/10/2012</value><value xid=\\'465\\'>5/11/2012</value><value xid=\\'466\\'>5/12/2012</value><value xid=\\'467\\'>5/13/2012</value><value xid=\\'468\\'>5/14/2012</value><value xid=\\'469\\'>5/15/2012</value><value xid=\\'470\\'>5/16/2012</value><value xid=\\'471\\'>5/17/2012</value><value xid=\\'472\\'>5/18/2012</value><value xid=\\'473\\'>5/19/2012</value><value xid=\\'474\\'>5/20/2012</value><value xid=\\'475\\'>5/21/2012</value><value xid=\\'476\\'>5/22/2012</value><value xid=\\'477\\'>5/23/2012</value><value xid=\\'478\\'>5/24/2012</value><value xid=\\'479\\'>5/25/2012</value><value xid=\\'480\\'>5/26/2012</value><value xid=\\'481\\'>5/27/2012</value><value xid=\\'482\\'>5/28/2012</value><value xid=\\'483\\'>5/29/2012</value><value xid=\\'484\\'>5/30/2012</value><value xid=\\'485\\'>5/31/2012</value><value xid=\\'486\\'>6/01/2012</value><value xid=\\'487\\'>6/02/2012</value><value xid=\\'488\\'>6/03/2012</value><value xid=\\'489\\'>6/04/2012</value><value xid=\\'490\\'>6/05/2012</value><value xid=\\'491\\'>6/06/2012</value><value xid=\\'492\\'>6/07/2012</value><value xid=\\'493\\'>6/08/2012</value><value xid=\\'494\\'>6/09/2012</value><value xid=\\'495\\'>6/10/2012</value><value xid=\\'496\\'>6/11/2012</value><value xid=\\'497\\'>6/12/2012</value><value xid=\\'498\\'>6/13/2012</value><value xid=\\'499\\'>6/14/2012</value><value xid=\\'500\\'>6/15/2012</value><value xid=\\'501\\'>6/16/2012</value><value xid=\\'502\\'>6/17/2012</value><value xid=\\'503\\'>6/18/2012</value><value xid=\\'504\\'>6/19/2012</value><value xid=\\'505\\'>6/20/2012</value><value xid=\\'506\\'>6/21/2012</value><value xid=\\'507\\'>6/22/2012</value><value xid=\\'508\\'>6/23/2012</value><value xid=\\'509\\'>6/24/2012</value><value xid=\\'510\\'>6/25/2012</value><value xid=\\'511\\'>6/26/2012</value><value xid=\\'512\\'>6/27/2012</value><value xid=\\'513\\'>6/28/2012</value><value xid=\\'514\\'>6/29/2012</value><value xid=\\'515\\'>6/30/2012</value><value xid=\\'516\\'>7/01/2012</value><value xid=\\'517\\'>7/02/2012</value><value xid=\\'518\\'>7/03/2012</value><value xid=\\'519\\'>7/04/2012</value><value xid=\\'520\\'>7/05/2012</value><value xid=\\'521\\'>7/06/2012</value><value xid=\\'522\\'>7/07/2012</value><value xid=\\'523\\'>7/08/2012</value><value xid=\\'524\\'>7/09/2012</value><value xid=\\'525\\'>7/10/2012</value><value xid=\\'526\\'>7/11/2012</value><value xid=\\'527\\'>7/12/2012</value><value xid=\\'528\\'>7/13/2012</value><value xid=\\'529\\'>7/14/2012</value><value xid=\\'530\\'>7/15/2012</value><value xid=\\'531\\'>7/16/2012</value><value xid=\\'532\\'>7/17/2012</value><value xid=\\'533\\'>7/18/2012</value><value xid=\\'534\\'>7/19/2012</value><value xid=\\'535\\'>7/20/2012</value><value xid=\\'536\\'>7/21/2012</value><value xid=\\'537\\'>7/22/2012</value><value xid=\\'538\\'>7/23/2012</value><value xid=\\'539\\'>7/24/2012</value><value xid=\\'540\\'>7/25/2012</value><value xid=\\'541\\'>7/26/2012</value><value xid=\\'542\\'>7/27/2012</value><value xid=\\'543\\'>7/28/2012</value><value xid=\\'544\\'>7/29/2012</value><value xid=\\'545\\'>7/30/2012</value><value xid=\\'546\\'>7/31/2012</value><value xid=\\'547\\'>8/01/2012</value><value xid=\\'548\\'>8/02/2012</value><value xid=\\'549\\'>8/03/2012</value><value xid=\\'550\\'>8/04/2012</value><value xid=\\'551\\'>8/05/2012</value><value xid=\\'552\\'>8/06/2012</value><value xid=\\'553\\'>8/07/2012</value><value xid=\\'554\\'>8/08/2012</value><value xid=\\'555\\'>8/09/2012</value><value xid=\\'556\\'>8/10/2012</value><value xid=\\'557\\'>8/11/2012</value><value xid=\\'558\\'>8/12/2012</value><value xid=\\'559\\'>8/13/2012</value><value xid=\\'560\\'>8/14/2012</value><value xid=\\'561\\'>8/15/2012</value><value xid=\\'562\\'>8/16/2012</value><value xid=\\'563\\'>8/17/2012</value><value xid=\\'564\\'>8/18/2012</value><value xid=\\'565\\'>8/19/2012</value><value xid=\\'566\\'>8/20/2012</value><value xid=\\'567\\'>8/21/2012</value><value xid=\\'568\\'>8/22/2012</value><value xid=\\'569\\'>8/23/2012</value><value xid=\\'570\\'>8/24/2012</value><value xid=\\'571\\'>8/25/2012</value><value xid=\\'572\\'>8/26/2012</value><value xid=\\'573\\'>8/27/2012</value><value xid=\\'574\\'>8/28/2012</value><value xid=\\'575\\'>8/29/2012</value><value xid=\\'576\\'>8/30/2012</value><value xid=\\'577\\'>8/31/2012</value><value xid=\\'578\\'>9/01/2012</value><value xid=\\'579\\'>9/02/2012</value><value xid=\\'580\\'>9/03/2012</value><value xid=\\'581\\'>9/04/2012</value><value xid=\\'582\\'>9/05/2012</value><value xid=\\'583\\'>9/06/2012</value><value xid=\\'584\\'>9/07/2012</value><value xid=\\'585\\'>9/08/2012</value><value xid=\\'586\\'>9/09/2012</value><value xid=\\'587\\'>9/10/2012</value><value xid=\\'588\\'>9/11/2012</value><value xid=\\'589\\'>9/12/2012</value><value xid=\\'590\\'>9/13/2012</value><value xid=\\'591\\'>9/14/2012</value><value xid=\\'592\\'>9/15/2012</value><value xid=\\'593\\'>9/16/2012</value><value xid=\\'594\\'>9/17/2012</value><value xid=\\'595\\'>9/18/2012</value><value xid=\\'596\\'>9/19/2012</value><value xid=\\'597\\'>9/20/2012</value><value xid=\\'598\\'>9/21/2012</value><value xid=\\'599\\'>9/22/2012</value><value xid=\\'600\\'>9/23/2012</value><value xid=\\'601\\'>9/24/2012</value><value xid=\\'602\\'>9/25/2012</value><value xid=\\'603\\'>9/26/2012</value><value xid=\\'604\\'>9/27/2012</value><value xid=\\'605\\'>9/28/2012</value><value xid=\\'606\\'>9/29/2012</value><value xid=\\'607\\'>9/30/2012</value><value xid=\\'608\\'>10/01/2012</value><value xid=\\'609\\'>10/02/2012</value><value xid=\\'610\\'>10/03/2012</value><value xid=\\'611\\'>10/04/2012</value><value xid=\\'612\\'>10/05/2012</value><value xid=\\'613\\'>10/06/2012</value><value xid=\\'614\\'>10/07/2012</value><value xid=\\'615\\'>10/08/2012</value><value xid=\\'616\\'>10/09/2012</value><value xid=\\'617\\'>10/10/2012</value><value xid=\\'618\\'>10/11/2012</value><value xid=\\'619\\'>10/12/2012</value><value xid=\\'620\\'>10/13/2012</value><value xid=\\'621\\'>10/14/2012</value><value xid=\\'622\\'>10/15/2012</value><value xid=\\'623\\'>10/16/2012</value><value xid=\\'624\\'>10/17/2012</value><value xid=\\'625\\'>10/18/2012</value><value xid=\\'626\\'>10/19/2012</value><value xid=\\'627\\'>10/20/2012</value><value xid=\\'628\\'>10/21/2012</value><value xid=\\'629\\'>10/22/2012</value><value xid=\\'630\\'>10/23/2012</value><value xid=\\'631\\'>10/24/2012</value><value xid=\\'632\\'>10/25/2012</value><value xid=\\'633\\'>10/26/2012</value><value xid=\\'634\\'>10/27/2012</value><value xid=\\'635\\'>10/28/2012</value><value xid=\\'636\\'>10/29/2012</value><value xid=\\'637\\'>10/30/2012</value><value xid=\\'638\\'>10/31/2012</value><value xid=\\'639\\'>11/01/2012</value><value xid=\\'640\\'>11/02/2012</value><value xid=\\'641\\'>11/03/2012</value><value xid=\\'642\\'>11/04/2012</value><value xid=\\'643\\'>11/05/2012</value><value xid=\\'644\\'>11/06/2012</value><value xid=\\'645\\'>11/07/2012</value><value xid=\\'646\\'>11/08/2012</value><value xid=\\'647\\'>11/09/2012</value><value xid=\\'648\\'>11/10/2012</value><value xid=\\'649\\'>11/11/2012</value><value xid=\\'650\\'>11/12/2012</value><value xid=\\'651\\'>11/13/2012</value></series><graphs><graph gid=\\'1\\' color=\\'#3B5998\\' balloon_color=\\'#3B5998\\' title=\\'Obama\\'><value xid=\\'0\\'>47.5</value><value xid=\\'1\\'>47.5</value><value xid=\\'2\\'>47.5</value><value xid=\\'3\\'>47.5</value><value xid=\\'4\\'>47.5</value><value xid=\\'5\\'>47.5</value><value xid=\\'6\\'>46.4</value><value xid=\\'7\\'>46.4</value><value xid=\\'8\\'>46.7</value><value xid=\\'9\\'>46.7</value><value xid=\\'10\\'>47.3</value><value xid=\\'11\\'>47.3</value><value xid=\\'12\\'>47.3</value><value xid=\\'13\\'>47.3</value><value xid=\\'14\\'>47.3</value><value xid=\\'15\\'>47.0</value><value xid=\\'16\\'>47.0</value><value xid=\\'17\\'>47.0</value><value xid=\\'18\\'>47.0</value><value xid=\\'19\\'>47.0</value><value xid=\\'20\\'>47.0</value><value xid=\\'21\\'>47.0</value><value xid=\\'22\\'>47.3</value><value xid=\\'23\\'>47.3</value><value xid=\\'24\\'>47.3</value><value xid=\\'25\\'>47.3</value><value xid=\\'26\\'>47.3</value><value xid=\\'27\\'>47.3</value><value xid=\\'28\\'>47.3</value><value xid=\\'29\\'>47.6</value><value xid=\\'30\\'>47.6</value><value xid=\\'31\\'>47.6</value><value xid=\\'32\\'>47.6</value><value xid=\\'33\\'>47.6</value><value xid=\\'34\\'>47.6</value><value xid=\\'35\\'>47.6</value><value xid=\\'36\\'>47.6</value><value xid=\\'37\\'>47.6</value><value xid=\\'38\\'>47.6</value><value xid=\\'39\\'>47.6</value><value xid=\\'40\\'>47.6</value><value xid=\\'41\\'>47.6</value><value xid=\\'42\\'>47.6</value><value xid=\\'43\\'>47.7</value><value xid=\\'44\\'>47.7</value><value xid=\\'45\\'>47.7</value><value xid=\\'46\\'>47.7</value><value xid=\\'47\\'>47.7</value><value xid=\\'48\\'>47.7</value><value xid=\\'49\\'>47.7</value><value xid=\\'50\\'>47.7</value><value xid=\\'51\\'>47.7</value><value xid=\\'52\\'>47.7</value><value xid=\\'53\\'>47.7</value><value xid=\\'54\\'>47.7</value><value xid=\\'55\\'>47.7</value><value xid=\\'56\\'>47.7</value><value xid=\\'57\\'>47.7</value><value xid=\\'58\\'>47.3</value><value xid=\\'59\\'>47.3</value><value xid=\\'60\\'>47.3</value><value xid=\\'61\\'>47.3</value><value xid=\\'62\\'>47.3</value><value xid=\\'63\\'>47.3</value><value xid=\\'64\\'>47.3</value><value xid=\\'65\\'>47.3</value><value xid=\\'66\\'>47.3</value><value xid=\\'67\\'>47.3</value><value xid=\\'68\\'>47.3</value><value xid=\\'69\\'>47.3</value><value xid=\\'70\\'>47.0</value><value xid=\\'71\\'>47.0</value><value xid=\\'72\\'>47.0</value><value xid=\\'73\\'>46.9</value><value xid=\\'74\\'>46.9</value><value xid=\\'75\\'>46.9</value><value xid=\\'76\\'>46.9</value><value xid=\\'77\\'>47.0</value><value xid=\\'78\\'>46.2</value><value xid=\\'79\\'>46.2</value><value xid=\\'80\\'>46.2</value><value xid=\\'81\\'>46.2</value><value xid=\\'82\\'>46.2</value><value xid=\\'83\\'>46.2</value><value xid=\\'84\\'>46.2</value><value xid=\\'85\\'>46.2</value><value xid=\\'86\\'>46.2</value><value xid=\\'87\\'>46.2</value><value xid=\\'88\\'>46.2</value><value xid=\\'89\\'>46.2</value><value xid=\\'90\\'>46.2</value><value xid=\\'91\\'>46.2</value><value xid=\\'92\\'>46.2</value><value xid=\\'93\\'>45.6</value><value xid=\\'94\\'>46.6</value><value xid=\\'95\\'>46.6</value><value xid=\\'96\\'>46.6</value><value xid=\\'97\\'>46.6</value><value xid=\\'98\\'>46.6</value><value xid=\\'99\\'>47.9</value><value xid=\\'100\\'>47.9</value><value xid=\\'101\\'>47.9</value><value xid=\\'102\\'>47.9</value><value xid=\\'103\\'>47.9</value><value xid=\\'104\\'>48.4</value><value xid=\\'105\\'>48.4</value><value xid=\\'106\\'>48.4</value><value xid=\\'107\\'>48.4</value><value xid=\\'108\\'>48.4</value><value xid=\\'109\\'>48.4</value><value xid=\\'110\\'>48.4</value><value xid=\\'111\\'>48.4</value><value xid=\\'112\\'>48.4</value><value xid=\\'113\\'>48.4</value><value xid=\\'114\\'>48.6</value><value xid=\\'115\\'>48.6</value><value xid=\\'116\\'>48.6</value><value xid=\\'117\\'>48.6</value><value xid=\\'118\\'>48.6</value><value xid=\\'119\\'>48.6</value><value xid=\\'120\\'>48.6</value><value xid=\\'121\\'>48.9</value><value xid=\\'122\\'>48.9</value><value xid=\\'123\\'>48.9</value><value xid=\\'124\\'>48.9</value><value xid=\\'125\\'>48.9</value><value xid=\\'126\\'>48.0</value><value xid=\\'127\\'>47.9</value><value xid=\\'128\\'>48.2</value><value xid=\\'129\\'>48.2</value><value xid=\\'130\\'>48.2</value><value xid=\\'131\\'>48.2</value><value xid=\\'132\\'>48.2</value><value xid=\\'133\\'>48.2</value><value xid=\\'134\\'>48.0</value><value xid=\\'135\\'>48.0</value><value xid=\\'136\\'>48.0</value><value xid=\\'137\\'>48.0</value><value xid=\\'138\\'>48.0</value><value xid=\\'139\\'>48.0</value><value xid=\\'140\\'>48.0</value><value xid=\\'141\\'>48.0</value><value xid=\\'142\\'>48.0</value><value xid=\\'143\\'>48.0</value><value xid=\\'144\\'>48.0</value><value xid=\\'145\\'>48.0</value><value xid=\\'146\\'>47.9</value><value xid=\\'147\\'>47.9</value><value xid=\\'148\\'>47.6</value><value xid=\\'149\\'>47.6</value><value xid=\\'150\\'>47.6</value><value xid=\\'151\\'>47.6</value><value xid=\\'152\\'>47.6</value><value xid=\\'153\\'>47.6</value><value xid=\\'154\\'>47.6</value><value xid=\\'155\\'>47.6</value><value xid=\\'156\\'>47.6</value><value xid=\\'157\\'>47.6</value><value xid=\\'158\\'>47.6</value><value xid=\\'159\\'>47.6</value><value xid=\\'160\\'>47.6</value><value xid=\\'161\\'>47.6</value><value xid=\\'162\\'>47.6</value><value xid=\\'163\\'>47.6</value><value xid=\\'164\\'>47.6</value><value xid=\\'165\\'>47.6</value><value xid=\\'166\\'>47.6</value><value xid=\\'167\\'>47.6</value><value xid=\\'168\\'>47.5</value><value xid=\\'169\\'>46.7</value><value xid=\\'170\\'>46.9</value><value xid=\\'171\\'>46.9</value><value xid=\\'172\\'>46.9</value><value xid=\\'173\\'>46.9</value><value xid=\\'174\\'>46.9</value><value xid=\\'175\\'>46.9</value><value xid=\\'176\\'>46.9</value><value xid=\\'177\\'>46.9</value><value xid=\\'178\\'>46.9</value><value xid=\\'179\\'>46.9</value><value xid=\\'180\\'>46.9</value><value xid=\\'181\\'>46.9</value><value xid=\\'182\\'>46.9</value><value xid=\\'183\\'>46.9</value><value xid=\\'184\\'>46.9</value><value xid=\\'185\\'>46.9</value><value xid=\\'186\\'>46.9</value><value xid=\\'187\\'>46.9</value><value xid=\\'188\\'>46.9</value><value xid=\\'189\\'>46.9</value><value xid=\\'190\\'>46.3</value><value xid=\\'191\\'>46.6</value><value xid=\\'192\\'>46.8</value><value xid=\\'193\\'>46.8</value><value xid=\\'194\\'>46.8</value><value xid=\\'195\\'>46.8</value><value xid=\\'196\\'>46.8</value><value xid=\\'197\\'>46.8</value><value xid=\\'198\\'>46.8</value><value xid=\\'199\\'>46.8</value><value xid=\\'200\\'>46.8</value><value xid=\\'201\\'>46.8</value><value xid=\\'202\\'>46.1</value><value xid=\\'203\\'>46.1</value><value xid=\\'204\\'>45.8</value><value xid=\\'205\\'>45.8</value><value xid=\\'206\\'>45.7</value><value xid=\\'207\\'>45.7</value><value xid=\\'208\\'>45.7</value><value xid=\\'209\\'>45.7</value><value xid=\\'210\\'>45.7</value><value xid=\\'211\\'>45.5</value><value xid=\\'212\\'>44.8</value><value xid=\\'213\\'>44.8</value><value xid=\\'214\\'>44.8</value><value xid=\\'215\\'>44.8</value><value xid=\\'216\\'>44.8</value><value xid=\\'217\\'>45.0</value><value xid=\\'218\\'>45.0</value><value xid=\\'219\\'>45.0</value><value xid=\\'220\\'>45.0</value><value xid=\\'221\\'>45.0</value><value xid=\\'222\\'>45.0</value><value xid=\\'223\\'>45.0</value><value xid=\\'224\\'>45.2</value><value xid=\\'225\\'>45.7</value><value xid=\\'226\\'>46.0</value><value xid=\\'227\\'>46.0</value><value xid=\\'228\\'>46.0</value><value xid=\\'229\\'>46.0</value><value xid=\\'230\\'>46.3</value><value xid=\\'231\\'>46.9</value><value xid=\\'232\\'>47.2</value><value xid=\\'233\\'>47.2</value><value xid=\\'234\\'>47.2</value><value xid=\\'235\\'>47.2</value><value xid=\\'236\\'>47.2</value><value xid=\\'237\\'>47.4</value><value xid=\\'238\\'>47.4</value><value xid=\\'239\\'>47.1</value><value xid=\\'240\\'>47.1</value><value xid=\\'241\\'>46.9</value><value xid=\\'242\\'>46.9</value><value xid=\\'243\\'>46.9</value><value xid=\\'244\\'>46.2</value><value xid=\\'245\\'>45.8</value><value xid=\\'246\\'>45.3</value><value xid=\\'247\\'>45.6</value><value xid=\\'248\\'>45.6</value><value xid=\\'249\\'>45.6</value><value xid=\\'250\\'>45.6</value><value xid=\\'251\\'>45.6</value><value xid=\\'252\\'>45.3</value><value xid=\\'253\\'>45.5</value><value xid=\\'254\\'>45.8</value><value xid=\\'255\\'>45.8</value><value xid=\\'256\\'>45.8</value><value xid=\\'257\\'>45.8</value><value xid=\\'258\\'>45.8</value><value xid=\\'259\\'>45.8</value><value xid=\\'260\\'>46.0</value><value xid=\\'261\\'>45.8</value><value xid=\\'262\\'>45.8</value><value xid=\\'263\\'>45.8</value><value xid=\\'264\\'>45.8</value><value xid=\\'265\\'>45.8</value><value xid=\\'266\\'>45.8</value><value xid=\\'267\\'>45.7</value><value xid=\\'268\\'>45.7</value><value xid=\\'269\\'>45.7</value><value xid=\\'270\\'>45.7</value><value xid=\\'271\\'>45.7</value><value xid=\\'272\\'>45.7</value><value xid=\\'273\\'>45.7</value><value xid=\\'274\\'>45.9</value><value xid=\\'275\\'>45.9</value><value xid=\\'276\\'>45.7</value><value xid=\\'277\\'>45.7</value><value xid=\\'278\\'>45.7</value><value xid=\\'279\\'>46.0</value><value xid=\\'280\\'>46.0</value><value xid=\\'281\\'>46.0</value><value xid=\\'282\\'>46.0</value><value xid=\\'283\\'>46.1</value><value xid=\\'284\\'>46.1</value><value xid=\\'285\\'>45.8</value><value xid=\\'286\\'>46.2</value><value xid=\\'287\\'>46.1</value><value xid=\\'288\\'>45.9</value><value xid=\\'289\\'>46.2</value><value xid=\\'290\\'>46.2</value><value xid=\\'291\\'>46.2</value><value xid=\\'292\\'>46.2</value><value xid=\\'293\\'>46.2</value><value xid=\\'294\\'>46.1</value><value xid=\\'295\\'>46.2</value><value xid=\\'296\\'>46.2</value><value xid=\\'297\\'>46.2</value><value xid=\\'298\\'>46.3</value><value xid=\\'299\\'>45.9</value><value xid=\\'300\\'>45.9</value><value xid=\\'301\\'>45.9</value><value xid=\\'302\\'>45.9</value><value xid=\\'303\\'>45.9</value><value xid=\\'304\\'>45.6</value><value xid=\\'305\\'>45.6</value><value xid=\\'306\\'>45.6</value><value xid=\\'307\\'>45.6</value><value xid=\\'308\\'>45.6</value><value xid=\\'309\\'>45.6</value><value xid=\\'310\\'>45.9</value><value xid=\\'311\\'>45.9</value><value xid=\\'312\\'>45.9</value><value xid=\\'313\\'>45.9</value><value xid=\\'314\\'>45.9</value><value xid=\\'315\\'>46.0</value><value xid=\\'316\\'>46.4</value><value xid=\\'317\\'>46.4</value><value xid=\\'318\\'>46.4</value><value xid=\\'319\\'>46.4</value><value xid=\\'320\\'>46.4</value><value xid=\\'321\\'>46.4</value><value xid=\\'322\\'>46.9</value><value xid=\\'323\\'>46.9</value><value xid=\\'324\\'>47.1</value><value xid=\\'325\\'>47.1</value><value xid=\\'326\\'>47.1</value><value xid=\\'327\\'>47.1</value><value xid=\\'328\\'>47.1</value><value xid=\\'329\\'>47.1</value><value xid=\\'330\\'>47.1</value><value xid=\\'331\\'>46.6</value><value xid=\\'332\\'>46.6</value><value xid=\\'333\\'>46.6</value><value xid=\\'334\\'>46.6</value><value xid=\\'335\\'>46.6</value><value xid=\\'336\\'>46.6</value><value xid=\\'337\\'>46.6</value><value xid=\\'338\\'>46.9</value><value xid=\\'339\\'>46.9</value><value xid=\\'340\\'>46.9</value><value xid=\\'341\\'>46.9</value><value xid=\\'342\\'>46.7</value><value xid=\\'343\\'>46.7</value><value xid=\\'344\\'>46.9</value><value xid=\\'345\\'>46.9</value><value xid=\\'346\\'>46.9</value><value xid=\\'347\\'>46.9</value><value xid=\\'348\\'>47.3</value><value xid=\\'349\\'>46.2</value><value xid=\\'350\\'>46.5</value><value xid=\\'351\\'>46.9</value><value xid=\\'352\\'>46.9</value><value xid=\\'353\\'>46.9</value><value xid=\\'354\\'>46.9</value><value xid=\\'355\\'>46.9</value><value xid=\\'356\\'>47.0</value><value xid=\\'357\\'>47.1</value><value xid=\\'358\\'>47.1</value><value xid=\\'359\\'>47.3</value><value xid=\\'360\\'>47.2</value><value xid=\\'361\\'>47.3</value><value xid=\\'362\\'>47.2</value><value xid=\\'363\\'>47.5</value><value xid=\\'364\\'>47.5</value><value xid=\\'365\\'>47.5</value><value xid=\\'366\\'>47.4</value><value xid=\\'367\\'>47.3</value><value xid=\\'368\\'>47.4</value><value xid=\\'369\\'>47.7</value><value xid=\\'370\\'>48.5</value><value xid=\\'371\\'>48.3</value><value xid=\\'372\\'>48.1</value><value xid=\\'373\\'>48.3</value><value xid=\\'374\\'>48.4</value><value xid=\\'375\\'>48.3</value><value xid=\\'376\\'>48.1</value><value xid=\\'377\\'>48.6</value><value xid=\\'378\\'>48.8</value><value xid=\\'379\\'>48.9</value><value xid=\\'380\\'>49.1</value><value xid=\\'381\\'>49.2</value><value xid=\\'382\\'>49.3</value><value xid=\\'383\\'>49.1</value><value xid=\\'384\\'>49.0</value><value xid=\\'385\\'>48.9</value><value xid=\\'386\\'>49.1</value><value xid=\\'387\\'>49.0</value><value xid=\\'388\\'>48.9</value><value xid=\\'389\\'>48.9</value><value xid=\\'390\\'>48.6</value><value xid=\\'391\\'>48.9</value><value xid=\\'392\\'>49.0</value><value xid=\\'393\\'>48.7</value><value xid=\\'394\\'>49.0</value><value xid=\\'395\\'>49.3</value><value xid=\\'396\\'>49.1</value><value xid=\\'397\\'>49.1</value><value xid=\\'398\\'>49.0</value><value xid=\\'399\\'>49.4</value><value xid=\\'400\\'>49.5</value><value xid=\\'401\\'>49.4</value><value xid=\\'402\\'>49.2</value><value xid=\\'403\\'>48.8</value><value xid=\\'404\\'>48.0</value><value xid=\\'405\\'>47.8</value><value xid=\\'406\\'>47.3</value><value xid=\\'407\\'>47.9</value><value xid=\\'408\\'>48.0</value><value xid=\\'409\\'>48.1</value><value xid=\\'410\\'>48.5</value><value xid=\\'411\\'>48.4</value><value xid=\\'412\\'>48.1</value><value xid=\\'413\\'>48.1</value><value xid=\\'414\\'>48.3</value><value xid=\\'415\\'>48.7</value><value xid=\\'416\\'>48.4</value><value xid=\\'417\\'>48.3</value><value xid=\\'418\\'>48.1</value><value xid=\\'419\\'>48.6</value><value xid=\\'420\\'>48.1</value><value xid=\\'421\\'>48.8</value><value xid=\\'422\\'>48.7</value><value xid=\\'423\\'>47.7</value><value xid=\\'424\\'>47.7</value><value xid=\\'425\\'>47.7</value><value xid=\\'426\\'>47.7</value><value xid=\\'427\\'>47.6</value><value xid=\\'428\\'>47.6</value><value xid=\\'429\\'>47.7</value><value xid=\\'430\\'>47.9</value><value xid=\\'431\\'>48.0</value><value xid=\\'432\\'>48.0</value><value xid=\\'433\\'>48.2</value><value xid=\\'434\\'>48.5</value><value xid=\\'435\\'>48.5</value><value xid=\\'436\\'>47.9</value><value xid=\\'437\\'>46.8</value><value xid=\\'438\\'>46.6</value><value xid=\\'439\\'>46.8</value><value xid=\\'440\\'>47.3</value><value xid=\\'441\\'>47.1</value><value xid=\\'442\\'>47.0</value><value xid=\\'443\\'>47.4</value><value xid=\\'444\\'>47.5</value><value xid=\\'445\\'>47.7</value><value xid=\\'446\\'>47.7</value><value xid=\\'447\\'>47.5</value><value xid=\\'448\\'>47.8</value><value xid=\\'449\\'>47.5</value><value xid=\\'450\\'>47.6</value><value xid=\\'451\\'>47.9</value><value xid=\\'452\\'>47.7</value><value xid=\\'453\\'>47.5</value><value xid=\\'454\\'>47.3</value><value xid=\\'455\\'>47.4</value><value xid=\\'456\\'>47.4</value><value xid=\\'457\\'>47.5</value><value xid=\\'458\\'>47.4</value><value xid=\\'459\\'>47.0</value><value xid=\\'460\\'>46.2</value><value xid=\\'461\\'>46.1</value><value xid=\\'462\\'>46.2</value><value xid=\\'463\\'>46.7</value><value xid=\\'464\\'>46.9</value><value xid=\\'465\\'>46.7</value><value xid=\\'466\\'>46.7</value><value xid=\\'467\\'>47.0</value><value xid=\\'468\\'>47.0</value><value xid=\\'469\\'>46.6</value><value xid=\\'470\\'>46.6</value><value xid=\\'471\\'>46.1</value><value xid=\\'472\\'>45.8</value><value xid=\\'473\\'>45.9</value><value xid=\\'474\\'>46.0</value><value xid=\\'475\\'>46.2</value><value xid=\\'476\\'>45.5</value><value xid=\\'477\\'>45.5</value><value xid=\\'478\\'>45.5</value><value xid=\\'479\\'>45.4</value><value xid=\\'480\\'>45.4</value><value xid=\\'481\\'>45.5</value><value xid=\\'482\\'>45.4</value><value xid=\\'483\\'>45.6</value><value xid=\\'484\\'>45.7</value><value xid=\\'485\\'>45.9</value><value xid=\\'486\\'>46.8</value><value xid=\\'487\\'>46.8</value><value xid=\\'488\\'>47.2</value><value xid=\\'489\\'>47.0</value><value xid=\\'490\\'>47.5</value><value xid=\\'491\\'>47.7</value><value xid=\\'492\\'>46.9</value><value xid=\\'493\\'>47.1</value><value xid=\\'494\\'>46.6</value><value xid=\\'495\\'>46.4</value><value xid=\\'496\\'>46.3</value><value xid=\\'497\\'>45.9</value><value xid=\\'498\\'>45.7</value><value xid=\\'499\\'>45.7</value><value xid=\\'500\\'>45.7</value><value xid=\\'501\\'>45.7</value><value xid=\\'502\\'>45.6</value><value xid=\\'503\\'>45.7</value><value xid=\\'504\\'>45.6</value><value xid=\\'505\\'>46.6</value><value xid=\\'506\\'>46.8</value><value xid=\\'507\\'>46.6</value><value xid=\\'508\\'>46.7</value><value xid=\\'509\\'>46.7</value><value xid=\\'510\\'>46.8</value><value xid=\\'511\\'>46.8</value><value xid=\\'512\\'>46.9</value><value xid=\\'513\\'>47.3</value><value xid=\\'514\\'>47.5</value><value xid=\\'515\\'>47.5</value><value xid=\\'516\\'>47.5</value><value xid=\\'517\\'>47.0</value><value xid=\\'518\\'>47.0</value><value xid=\\'519\\'>47.0</value><value xid=\\'520\\'>47.0</value><value xid=\\'521\\'>47.0</value><value xid=\\'522\\'>47.0</value><value xid=\\'523\\'>47.0</value><value xid=\\'524\\'>47.0</value><value xid=\\'525\\'>46.4</value><value xid=\\'526\\'>46.5</value><value xid=\\'527\\'>46.9</value><value xid=\\'528\\'>46.9</value><value xid=\\'529\\'>47.0</value><value xid=\\'530\\'>46.8</value><value xid=\\'531\\'>46.6</value><value xid=\\'532\\'>46.6</value><value xid=\\'533\\'>46.3</value><value xid=\\'534\\'>46.2</value><value xid=\\'535\\'>46.6</value><value xid=\\'536\\'>46.4</value><value xid=\\'537\\'>46.0</value><value xid=\\'538\\'>45.9</value><value xid=\\'539\\'>46.4</value><value xid=\\'540\\'>46.3</value><value xid=\\'541\\'>46.4</value><value xid=\\'542\\'>46.4</value><value xid=\\'543\\'>46.4</value><value xid=\\'544\\'>46.6</value><value xid=\\'545\\'>46.9</value><value xid=\\'546\\'>47.0</value><value xid=\\'547\\'>47.0</value><value xid=\\'548\\'>47.4</value><value xid=\\'549\\'>47.3</value><value xid=\\'550\\'>47.4</value><value xid=\\'551\\'>47.4</value><value xid=\\'552\\'>47.7</value><value xid=\\'553\\'>47.6</value><value xid=\\'554\\'>47.8</value><value xid=\\'555\\'>48.4</value><value xid=\\'556\\'>48.3</value><value xid=\\'557\\'>48.0</value><value xid=\\'558\\'>47.7</value><value xid=\\'559\\'>47.7</value><value xid=\\'560\\'>47.6</value><value xid=\\'561\\'>47.2</value><value xid=\\'562\\'>47.3</value><value xid=\\'563\\'>47.7</value><value xid=\\'564\\'>48.0</value><value xid=\\'565\\'>47.8</value><value xid=\\'566\\'>47.2</value><value xid=\\'567\\'>47.4</value><value xid=\\'568\\'>47.0</value><value xid=\\'569\\'>46.3</value><value xid=\\'570\\'>46.6</value><value xid=\\'571\\'>46.8</value><value xid=\\'572\\'>46.9</value><value xid=\\'573\\'>46.8</value><value xid=\\'574\\'>46.7</value><value xid=\\'575\\'>46.8</value><value xid=\\'576\\'>46.5</value><value xid=\\'577\\'>46.4</value><value xid=\\'578\\'>46.4</value><value xid=\\'579\\'>46.4</value><value xid=\\'580\\'>46.4</value><value xid=\\'581\\'>46.8</value><value xid=\\'582\\'>46.8</value><value xid=\\'583\\'>46.7</value><value xid=\\'584\\'>47.0</value><value xid=\\'585\\'>47.3</value><value xid=\\'586\\'>47.8</value><value xid=\\'587\\'>48.3</value><value xid=\\'588\\'>49.0</value><value xid=\\'589\\'>48.4</value><value xid=\\'590\\'>48.8</value><value xid=\\'591\\'>48.6</value><value xid=\\'592\\'>48.7</value><value xid=\\'593\\'>48.6</value><value xid=\\'594\\'>48.5</value><value xid=\\'595\\'>48.1</value><value xid=\\'596\\'>48.2</value><value xid=\\'597\\'>48.3</value><value xid=\\'598\\'>48.1</value><value xid=\\'599\\'>48.1</value><value xid=\\'600\\'>48.3</value><value xid=\\'601\\'>48.6</value><value xid=\\'602\\'>48.6</value><value xid=\\'603\\'>48.9</value><value xid=\\'604\\'>48.6</value><value xid=\\'605\\'>48.7</value><value xid=\\'606\\'>48.9</value><value xid=\\'607\\'>48.7</value><value xid=\\'608\\'>49.3</value><value xid=\\'609\\'>49.0</value><value xid=\\'610\\'>49.1</value><value xid=\\'611\\'>49.1</value><value xid=\\'612\\'>49.0</value><value xid=\\'613\\'>48.4</value><value xid=\\'614\\'>48.4</value><value xid=\\'615\\'>47.9</value><value xid=\\'616\\'>47.3</value><value xid=\\'617\\'>46.1</value><value xid=\\'618\\'>46.4</value><value xid=\\'619\\'>46.3</value><value xid=\\'620\\'>46.0</value><value xid=\\'621\\'>46.4</value><value xid=\\'622\\'>47.3</value><value xid=\\'623\\'>47.0</value><value xid=\\'624\\'>47.0</value><value xid=\\'625\\'>46.7</value><value xid=\\'626\\'>47.1</value><value xid=\\'627\\'>47.1</value><value xid=\\'628\\'>47.1</value><value xid=\\'629\\'>47.2</value><value xid=\\'630\\'>47.1</value><value xid=\\'631\\'>47.2</value><value xid=\\'632\\'>47.0</value><value xid=\\'633\\'>47.0</value><value xid=\\'634\\'>46.9</value><value xid=\\'635\\'>46.8</value><value xid=\\'636\\'>46.8</value><value xid=\\'637\\'>47.1</value><value xid=\\'638\\'>47.4</value><value xid=\\'639\\'>47.4</value><value xid=\\'640\\'>47.4</value><value xid=\\'641\\'>47.4</value><value xid=\\'642\\'>47.9</value><value xid=\\'643\\'>48.8</value><value xid=\\'644\\'>48.8</value><value xid=\\'645\\'></value><value xid=\\'646\\'></value><value xid=\\'647\\'></value><value xid=\\'648\\'></value><value xid=\\'649\\'></value><value xid=\\'650\\'></value><value xid=\\'651\\'></value></graph><graph gid=\\'2\\' color=\\'#D30015\\' balloon_color=\\'#D30015\\' title=\\'Romney\\'><value xid=\\'0\\'>41.5</value><value xid=\\'1\\'>41.5</value><value xid=\\'2\\'>41.5</value><value xid=\\'3\\'>41.5</value><value xid=\\'4\\'>41.5</value><value xid=\\'5\\'>41.5</value><value xid=\\'6\\'>42.0</value><value xid=\\'7\\'>42.0</value><value xid=\\'8\\'>42.7</value><value xid=\\'9\\'>42.7</value><value xid=\\'10\\'>42.0</value><value xid=\\'11\\'>42.0</value><value xid=\\'12\\'>42.0</value><value xid=\\'13\\'>42.0</value><value xid=\\'14\\'>42.0</value><value xid=\\'15\\'>41.7</value><value xid=\\'16\\'>41.7</value><value xid=\\'17\\'>41.7</value><value xid=\\'18\\'>41.7</value><value xid=\\'19\\'>41.7</value><value xid=\\'20\\'>41.7</value><value xid=\\'21\\'>41.7</value><value xid=\\'22\\'>42.8</value><value xid=\\'23\\'>42.8</value><value xid=\\'24\\'>42.8</value><value xid=\\'25\\'>42.8</value><value xid=\\'26\\'>42.8</value><value xid=\\'27\\'>42.8</value><value xid=\\'28\\'>42.8</value><value xid=\\'29\\'>42.4</value><value xid=\\'30\\'>42.4</value><value xid=\\'31\\'>42.4</value><value xid=\\'32\\'>42.4</value><value xid=\\'33\\'>42.4</value><value xid=\\'34\\'>42.4</value><value xid=\\'35\\'>42.4</value><value xid=\\'36\\'>42.4</value><value xid=\\'37\\'>42.4</value><value xid=\\'38\\'>42.4</value><value xid=\\'39\\'>42.4</value><value xid=\\'40\\'>42.4</value><value xid=\\'41\\'>42.4</value><value xid=\\'42\\'>42.4</value><value xid=\\'43\\'>42.6</value><value xid=\\'44\\'>42.6</value><value xid=\\'45\\'>42.6</value><value xid=\\'46\\'>42.6</value><value xid=\\'47\\'>42.6</value><value xid=\\'48\\'>42.6</value><value xid=\\'49\\'>42.6</value><value xid=\\'50\\'>42.6</value><value xid=\\'51\\'>42.6</value><value xid=\\'52\\'>42.6</value><value xid=\\'53\\'>42.6</value><value xid=\\'54\\'>42.6</value><value xid=\\'55\\'>42.6</value><value xid=\\'56\\'>42.6</value><value xid=\\'57\\'>42.6</value><value xid=\\'58\\'>42.6</value><value xid=\\'59\\'>42.6</value><value xid=\\'60\\'>42.6</value><value xid=\\'61\\'>42.6</value><value xid=\\'62\\'>42.6</value><value xid=\\'63\\'>42.6</value><value xid=\\'64\\'>42.6</value><value xid=\\'65\\'>42.6</value><value xid=\\'66\\'>42.6</value><value xid=\\'67\\'>42.6</value><value xid=\\'68\\'>42.6</value><value xid=\\'69\\'>42.6</value><value xid=\\'70\\'>42.2</value><value xid=\\'71\\'>42.2</value><value xid=\\'72\\'>42.0</value><value xid=\\'73\\'>42.9</value><value xid=\\'74\\'>42.9</value><value xid=\\'75\\'>42.9</value><value xid=\\'76\\'>42.9</value><value xid=\\'77\\'>43.4</value><value xid=\\'78\\'>43.7</value><value xid=\\'79\\'>43.7</value><value xid=\\'80\\'>43.7</value><value xid=\\'81\\'>43.7</value><value xid=\\'82\\'>43.7</value><value xid=\\'83\\'>43.7</value><value xid=\\'84\\'>43.7</value><value xid=\\'85\\'>43.7</value><value xid=\\'86\\'>43.7</value><value xid=\\'87\\'>43.7</value><value xid=\\'88\\'>43.7</value><value xid=\\'89\\'>43.7</value><value xid=\\'90\\'>43.7</value><value xid=\\'91\\'>43.7</value><value xid=\\'92\\'>43.7</value><value xid=\\'93\\'>42.6</value><value xid=\\'94\\'>42.6</value><value xid=\\'95\\'>42.6</value><value xid=\\'96\\'>42.6</value><value xid=\\'97\\'>42.6</value><value xid=\\'98\\'>42.6</value><value xid=\\'99\\'>42.4</value><value xid=\\'100\\'>42.4</value><value xid=\\'101\\'>42.4</value><value xid=\\'102\\'>42.4</value><value xid=\\'103\\'>42.4</value><value xid=\\'104\\'>42.1</value><value xid=\\'105\\'>42.1</value><value xid=\\'106\\'>42.1</value><value xid=\\'107\\'>42.1</value><value xid=\\'108\\'>42.1</value><value xid=\\'109\\'>42.1</value><value xid=\\'110\\'>42.1</value><value xid=\\'111\\'>42.1</value><value xid=\\'112\\'>42.1</value><value xid=\\'113\\'>42.1</value><value xid=\\'114\\'>42.1</value><value xid=\\'115\\'>42.1</value><value xid=\\'116\\'>42.1</value><value xid=\\'117\\'>42.1</value><value xid=\\'118\\'>42.1</value><value xid=\\'119\\'>42.1</value><value xid=\\'120\\'>42.1</value><value xid=\\'121\\'>41.6</value><value xid=\\'122\\'>41.6</value><value xid=\\'123\\'>41.6</value><value xid=\\'124\\'>41.6</value><value xid=\\'125\\'>41.6</value><value xid=\\'126\\'>41.5</value><value xid=\\'127\\'>41.4</value><value xid=\\'128\\'>42.5</value><value xid=\\'129\\'>42.5</value><value xid=\\'130\\'>42.5</value><value xid=\\'131\\'>42.5</value><value xid=\\'132\\'>42.5</value><value xid=\\'133\\'>42.5</value><value xid=\\'134\\'>42.8</value><value xid=\\'135\\'>42.8</value><value xid=\\'136\\'>42.8</value><value xid=\\'137\\'>42.8</value><value xid=\\'138\\'>42.8</value><value xid=\\'139\\'>42.8</value><value xid=\\'140\\'>42.8</value><value xid=\\'141\\'>42.8</value><value xid=\\'142\\'>42.8</value><value xid=\\'143\\'>42.8</value><value xid=\\'144\\'>42.8</value><value xid=\\'145\\'>42.8</value><value xid=\\'146\\'>43.1</value><value xid=\\'147\\'>43.1</value><value xid=\\'148\\'>43.0</value><value xid=\\'149\\'>43.0</value><value xid=\\'150\\'>43.0</value><value xid=\\'151\\'>43.0</value><value xid=\\'152\\'>43.0</value><value xid=\\'153\\'>43.0</value><value xid=\\'154\\'>43.0</value><value xid=\\'155\\'>43.0</value><value xid=\\'156\\'>43.0</value><value xid=\\'157\\'>43.0</value><value xid=\\'158\\'>43.0</value><value xid=\\'159\\'>43.0</value><value xid=\\'160\\'>43.0</value><value xid=\\'161\\'>43.0</value><value xid=\\'162\\'>43.0</value><value xid=\\'163\\'>43.0</value><value xid=\\'164\\'>43.0</value><value xid=\\'165\\'>43.0</value><value xid=\\'166\\'>43.0</value><value xid=\\'167\\'>43.0</value><value xid=\\'168\\'>42.8</value><value xid=\\'169\\'>42.8</value><value xid=\\'170\\'>42.6</value><value xid=\\'171\\'>42.6</value><value xid=\\'172\\'>42.6</value><value xid=\\'173\\'>42.6</value><value xid=\\'174\\'>42.6</value><value xid=\\'175\\'>42.6</value><value xid=\\'176\\'>42.6</value><value xid=\\'177\\'>42.6</value><value xid=\\'178\\'>42.6</value><value xid=\\'179\\'>42.6</value><value xid=\\'180\\'>42.6</value><value xid=\\'181\\'>42.6</value><value xid=\\'182\\'>42.6</value><value xid=\\'183\\'>42.6</value><value xid=\\'184\\'>42.6</value><value xid=\\'185\\'>42.6</value><value xid=\\'186\\'>42.6</value><value xid=\\'187\\'>42.6</value><value xid=\\'188\\'>42.6</value><value xid=\\'189\\'>42.6</value><value xid=\\'190\\'>42.7</value><value xid=\\'191\\'>43.4</value><value xid=\\'192\\'>43.7</value><value xid=\\'193\\'>43.7</value><value xid=\\'194\\'>43.7</value><value xid=\\'195\\'>43.7</value><value xid=\\'196\\'>43.7</value><value xid=\\'197\\'>43.7</value><value xid=\\'198\\'>43.7</value><value xid=\\'199\\'>43.7</value><value xid=\\'200\\'>43.7</value><value xid=\\'201\\'>43.7</value><value xid=\\'202\\'>44.1</value><value xid=\\'203\\'>44.1</value><value xid=\\'204\\'>44.6</value><value xid=\\'205\\'>44.6</value><value xid=\\'206\\'>44.3</value><value xid=\\'207\\'>44.3</value><value xid=\\'208\\'>44.3</value><value xid=\\'209\\'>44.3</value><value xid=\\'210\\'>44.3</value><value xid=\\'211\\'>45.0</value><value xid=\\'212\\'>44.3</value><value xid=\\'213\\'>44.3</value><value xid=\\'214\\'>44.3</value><value xid=\\'215\\'>44.3</value><value xid=\\'216\\'>44.3</value><value xid=\\'217\\'>45.2</value><value xid=\\'218\\'>45.2</value><value xid=\\'219\\'>45.2</value><value xid=\\'220\\'>45.2</value><value xid=\\'221\\'>45.2</value><value xid=\\'222\\'>45.2</value><value xid=\\'223\\'>45.2</value><value xid=\\'224\\'>45.8</value><value xid=\\'225\\'>45.4</value><value xid=\\'226\\'>45.1</value><value xid=\\'227\\'>45.1</value><value xid=\\'228\\'>45.1</value><value xid=\\'229\\'>45.1</value><value xid=\\'230\\'>45.3</value><value xid=\\'231\\'>45.0</value><value xid=\\'232\\'>44.2</value><value xid=\\'233\\'>44.2</value><value xid=\\'234\\'>44.2</value><value xid=\\'235\\'>44.2</value><value xid=\\'236\\'>44.2</value><value xid=\\'237\\'>44.7</value><value xid=\\'238\\'>44.7</value><value xid=\\'239\\'>44.4</value><value xid=\\'240\\'>44.4</value><value xid=\\'241\\'>44.8</value><value xid=\\'242\\'>44.8</value><value xid=\\'243\\'>44.8</value><value xid=\\'244\\'>45.0</value><value xid=\\'245\\'>45.8</value><value xid=\\'246\\'>45.9</value><value xid=\\'247\\'>46.1</value><value xid=\\'248\\'>46.1</value><value xid=\\'249\\'>46.1</value><value xid=\\'250\\'>46.1</value><value xid=\\'251\\'>46.1</value><value xid=\\'252\\'>45.9</value><value xid=\\'253\\'>45.3</value><value xid=\\'254\\'>45.1</value><value xid=\\'255\\'>45.1</value><value xid=\\'256\\'>45.1</value><value xid=\\'257\\'>45.1</value><value xid=\\'258\\'>45.1</value><value xid=\\'259\\'>45.2</value><value xid=\\'260\\'>45.2</value><value xid=\\'261\\'>44.2</value><value xid=\\'262\\'>44.2</value><value xid=\\'263\\'>44.2</value><value xid=\\'264\\'>44.2</value><value xid=\\'265\\'>44.2</value><value xid=\\'266\\'>44.2</value><value xid=\\'267\\'>44.5</value><value xid=\\'268\\'>44.5</value><value xid=\\'269\\'>44.5</value><value xid=\\'270\\'>44.5</value><value xid=\\'271\\'>44.5</value><value xid=\\'272\\'>44.5</value><value xid=\\'273\\'>44.5</value><value xid=\\'274\\'>44.1</value><value xid=\\'275\\'>43.7</value><value xid=\\'276\\'>44.1</value><value xid=\\'277\\'>44.1</value><value xid=\\'278\\'>44.4</value><value xid=\\'279\\'>44.3</value><value xid=\\'280\\'>44.3</value><value xid=\\'281\\'>44.3</value><value xid=\\'282\\'>44.3</value><value xid=\\'283\\'>44.4</value><value xid=\\'284\\'>44.4</value><value xid=\\'285\\'>44.2</value><value xid=\\'286\\'>45.0</value><value xid=\\'287\\'>44.7</value><value xid=\\'288\\'>44.6</value><value xid=\\'289\\'>44.8</value><value xid=\\'290\\'>44.8</value><value xid=\\'291\\'>44.8</value><value xid=\\'292\\'>44.8</value><value xid=\\'293\\'>44.8</value><value xid=\\'294\\'>44.7</value><value xid=\\'295\\'>44.4</value><value xid=\\'296\\'>44.4</value><value xid=\\'297\\'>44.4</value><value xid=\\'298\\'>44.3</value><value xid=\\'299\\'>44.4</value><value xid=\\'300\\'>44.4</value><value xid=\\'301\\'>44.4</value><value xid=\\'302\\'>44.4</value><value xid=\\'303\\'>44.4</value><value xid=\\'304\\'>44.7</value><value xid=\\'305\\'>44.7</value><value xid=\\'306\\'>44.7</value><value xid=\\'307\\'>44.7</value><value xid=\\'308\\'>44.7</value><value xid=\\'309\\'>44.7</value><value xid=\\'310\\'>44.4</value><value xid=\\'311\\'>44.4</value><value xid=\\'312\\'>44.4</value><value xid=\\'313\\'>44.4</value><value xid=\\'314\\'>45.1</value><value xid=\\'315\\'>45.1</value><value xid=\\'316\\'>44.8</value><value xid=\\'317\\'>44.8</value><value xid=\\'318\\'>44.6</value><value xid=\\'319\\'>44.6</value><value xid=\\'320\\'>44.6</value><value xid=\\'321\\'>44.6</value><value xid=\\'322\\'>44.8</value><value xid=\\'323\\'>44.8</value><value xid=\\'324\\'>44.6</value><value xid=\\'325\\'>44.6</value><value xid=\\'326\\'>44.6</value><value xid=\\'327\\'>44.6</value><value xid=\\'328\\'>44.6</value><value xid=\\'329\\'>44.6</value><value xid=\\'330\\'>44.6</value><value xid=\\'331\\'>45.0</value><value xid=\\'332\\'>45.0</value><value xid=\\'333\\'>45.0</value><value xid=\\'334\\'>45.0</value><value xid=\\'335\\'>45.0</value><value xid=\\'336\\'>45.0</value><value xid=\\'337\\'>45.0</value><value xid=\\'338\\'>44.7</value><value xid=\\'339\\'>44.7</value><value xid=\\'340\\'>44.7</value><value xid=\\'341\\'>44.7</value><value xid=\\'342\\'>44.9</value><value xid=\\'343\\'>45.2</value><value xid=\\'344\\'>45.1</value><value xid=\\'345\\'>45.1</value><value xid=\\'346\\'>45.2</value><value xid=\\'347\\'>45.2</value><value xid=\\'348\\'>45.5</value><value xid=\\'349\\'>45.0</value><value xid=\\'350\\'>45.3</value><value xid=\\'351\\'>45.0</value><value xid=\\'352\\'>45.0</value><value xid=\\'353\\'>45.0</value><value xid=\\'354\\'>45.0</value><value xid=\\'355\\'>45.0</value><value xid=\\'356\\'>45.2</value><value xid=\\'357\\'>45.2</value><value xid=\\'358\\'>45.2</value><value xid=\\'359\\'>45.0</value><value xid=\\'360\\'>44.9</value><value xid=\\'361\\'>44.9</value><value xid=\\'362\\'>45.0</value><value xid=\\'363\\'>45.1</value><value xid=\\'364\\'>45.2</value><value xid=\\'365\\'>45.3</value><value xid=\\'366\\'>45.5</value><value xid=\\'367\\'>45.5</value><value xid=\\'368\\'>45.4</value><value xid=\\'369\\'>45.1</value><value xid=\\'370\\'>44.5</value><value xid=\\'371\\'>44.1</value><value xid=\\'372\\'>44.3</value><value xid=\\'373\\'>44.1</value><value xid=\\'374\\'>43.6</value><value xid=\\'375\\'>43.9</value><value xid=\\'376\\'>43.8</value><value xid=\\'377\\'>43.9</value><value xid=\\'378\\'>43.1</value><value xid=\\'379\\'>43.0</value><value xid=\\'380\\'>43.4</value><value xid=\\'381\\'>43.3</value><value xid=\\'382\\'>43.2</value><value xid=\\'383\\'>43.4</value><value xid=\\'384\\'>43.3</value><value xid=\\'385\\'>43.4</value><value xid=\\'386\\'>43.4</value><value xid=\\'387\\'>43.9</value><value xid=\\'388\\'>44.1</value><value xid=\\'389\\'>44.1</value><value xid=\\'390\\'>44.3</value><value xid=\\'391\\'>44.1</value><value xid=\\'392\\'>44.0</value><value xid=\\'393\\'>44.7</value><value xid=\\'394\\'>44.4</value><value xid=\\'395\\'>44.3</value><value xid=\\'396\\'>44.3</value><value xid=\\'397\\'>44.4</value><value xid=\\'398\\'>44.4</value><value xid=\\'399\\'>44.3</value><value xid=\\'400\\'>44.3</value><value xid=\\'401\\'>44.5</value><value xid=\\'402\\'>44.8</value><value xid=\\'403\\'>45.0</value><value xid=\\'404\\'>45.5</value><value xid=\\'405\\'>45.5</value><value xid=\\'406\\'>44.5</value><value xid=\\'407\\'>44.0</value><value xid=\\'408\\'>44.1</value><value xid=\\'409\\'>44.0</value><value xid=\\'410\\'>43.6</value><value xid=\\'411\\'>43.8</value><value xid=\\'412\\'>44.0</value><value xid=\\'413\\'>43.9</value><value xid=\\'414\\'>43.8</value><value xid=\\'415\\'>43.4</value><value xid=\\'416\\'>43.6</value><value xid=\\'417\\'>43.4</value><value xid=\\'418\\'>43.6</value><value xid=\\'419\\'>43.3</value><value xid=\\'420\\'>43.5</value><value xid=\\'421\\'>43.4</value><value xid=\\'422\\'>43.7</value><value xid=\\'423\\'>43.0</value><value xid=\\'424\\'>43.2</value><value xid=\\'425\\'>43.0</value><value xid=\\'426\\'>43.3</value><value xid=\\'427\\'>43.3</value><value xid=\\'428\\'>43.6</value><value xid=\\'429\\'>43.6</value><value xid=\\'430\\'>43.4</value><value xid=\\'431\\'>43.1</value><value xid=\\'432\\'>43.1</value><value xid=\\'433\\'>43.3</value><value xid=\\'434\\'>43.2</value><value xid=\\'435\\'>43.2</value><value xid=\\'436\\'>43.6</value><value xid=\\'437\\'>44.2</value><value xid=\\'438\\'>44.2</value><value xid=\\'439\\'>44.2</value><value xid=\\'440\\'>44.1</value><value xid=\\'441\\'>44.1</value><value xid=\\'442\\'>45.3</value><value xid=\\'443\\'>44.7</value><value xid=\\'444\\'>44.6</value><value xid=\\'445\\'>44.5</value><value xid=\\'446\\'>44.4</value><value xid=\\'447\\'>44.3</value><value xid=\\'448\\'>44.1</value><value xid=\\'449\\'>44.0</value><value xid=\\'450\\'>43.9</value><value xid=\\'451\\'>43.7</value><value xid=\\'452\\'>43.8</value><value xid=\\'453\\'>44.2</value><value xid=\\'454\\'>44.2</value><value xid=\\'455\\'>44.0</value><value xid=\\'456\\'>43.8</value><value xid=\\'457\\'>44.1</value><value xid=\\'458\\'>44.1</value><value xid=\\'459\\'>44.3</value><value xid=\\'460\\'>45.0</value><value xid=\\'461\\'>45.1</value><value xid=\\'462\\'>46.0</value><value xid=\\'463\\'>45.4</value><value xid=\\'464\\'>45.4</value><value xid=\\'465\\'>45.4</value><value xid=\\'466\\'>45.3</value><value xid=\\'467\\'>45.0</value><value xid=\\'468\\'>45.0</value><value xid=\\'469\\'>44.8</value><value xid=\\'470\\'>44.1</value><value xid=\\'471\\'>43.7</value><value xid=\\'472\\'>44.1</value><value xid=\\'473\\'>44.1</value><value xid=\\'474\\'>43.9</value><value xid=\\'475\\'>43.9</value><value xid=\\'476\\'>43.6</value><value xid=\\'477\\'>43.8</value><value xid=\\'478\\'>43.6</value><value xid=\\'479\\'>43.8</value><value xid=\\'480\\'>43.6</value><value xid=\\'481\\'>43.6</value><value xid=\\'482\\'>43.6</value><value xid=\\'483\\'>43.6</value><value xid=\\'484\\'>43.7</value><value xid=\\'485\\'>43.6</value><value xid=\\'486\\'>44.3</value><value xid=\\'487\\'>44.5</value><value xid=\\'488\\'>45.6</value><value xid=\\'489\\'>45.4</value><value xid=\\'490\\'>44.7</value><value xid=\\'491\\'>44.7</value><value xid=\\'492\\'>44.7</value><value xid=\\'493\\'>44.5</value><value xid=\\'494\\'>45.0</value><value xid=\\'495\\'>45.1</value><value xid=\\'496\\'>44.9</value><value xid=\\'497\\'>44.6</value><value xid=\\'498\\'>44.9</value><value xid=\\'499\\'>44.9</value><value xid=\\'500\\'>44.9</value><value xid=\\'501\\'>44.9</value><value xid=\\'502\\'>44.9</value><value xid=\\'503\\'>44.9</value><value xid=\\'504\\'>45.0</value><value xid=\\'505\\'>44.4</value><value xid=\\'506\\'>44.5</value><value xid=\\'507\\'>44.3</value><value xid=\\'508\\'>44.3</value><value xid=\\'509\\'>44.2</value><value xid=\\'510\\'>44.2</value><value xid=\\'511\\'>44.2</value><value xid=\\'512\\'>43.9</value><value xid=\\'513\\'>43.7</value><value xid=\\'514\\'>43.7</value><value xid=\\'515\\'>43.8</value><value xid=\\'516\\'>43.9</value><value xid=\\'517\\'>44.1</value><value xid=\\'518\\'>44.4</value><value xid=\\'519\\'>44.4</value><value xid=\\'520\\'>44.4</value><value xid=\\'521\\'>44.3</value><value xid=\\'522\\'>44.3</value><value xid=\\'523\\'>44.3</value><value xid=\\'524\\'>44.5</value><value xid=\\'525\\'>44.7</value><value xid=\\'526\\'>44.6</value><value xid=\\'527\\'>44.3</value><value xid=\\'528\\'>44.4</value><value xid=\\'529\\'>44.6</value><value xid=\\'530\\'>44.4</value><value xid=\\'531\\'>44.5</value><value xid=\\'532\\'>44.6</value><value xid=\\'533\\'>44.9</value><value xid=\\'534\\'>45.0</value><value xid=\\'535\\'>44.7</value><value xid=\\'536\\'>44.7</value><value xid=\\'537\\'>44.8</value><value xid=\\'538\\'>44.8</value><value xid=\\'539\\'>44.6</value><value xid=\\'540\\'>45.0</value><value xid=\\'541\\'>45.1</value><value xid=\\'542\\'>45.3</value><value xid=\\'543\\'>45.1</value><value xid=\\'544\\'>45.0</value><value xid=\\'545\\'>45.1</value><value xid=\\'546\\'>45.0</value><value xid=\\'547\\'>45.0</value><value xid=\\'548\\'>44.4</value><value xid=\\'549\\'>44.6</value><value xid=\\'550\\'>44.4</value><value xid=\\'551\\'>44.6</value><value xid=\\'552\\'>44.3</value><value xid=\\'553\\'>44.1</value><value xid=\\'554\\'>43.9</value><value xid=\\'555\\'>44.0</value><value xid=\\'556\\'>44.1</value><value xid=\\'557\\'>43.4</value><value xid=\\'558\\'>43.0</value><value xid=\\'559\\'>43.7</value><value xid=\\'560\\'>43.9</value><value xid=\\'561\\'>44.2</value><value xid=\\'562\\'>43.8</value><value xid=\\'563\\'>43.8</value><value xid=\\'564\\'>44.6</value><value xid=\\'565\\'>44.4</value><value xid=\\'566\\'>44.7</value><value xid=\\'567\\'>44.7</value><value xid=\\'568\\'>45.5</value><value xid=\\'569\\'>45.3</value><value xid=\\'570\\'>45.6</value><value xid=\\'571\\'>45.5</value><value xid=\\'572\\'>45.5</value><value xid=\\'573\\'>45.7</value><value xid=\\'574\\'>45.7</value><value xid=\\'575\\'>45.7</value><value xid=\\'576\\'>45.9</value><value xid=\\'577\\'>45.9</value><value xid=\\'578\\'>46.1</value><value xid=\\'579\\'>46.3</value><value xid=\\'580\\'>46.4</value><value xid=\\'581\\'>46.7</value><value xid=\\'582\\'>46.8</value><value xid=\\'583\\'>46.7</value><value xid=\\'584\\'>46.3</value><value xid=\\'585\\'>46.0</value><value xid=\\'586\\'>46.0</value><value xid=\\'587\\'>45.4</value><value xid=\\'588\\'>45.4</value><value xid=\\'589\\'>44.9</value><value xid=\\'590\\'>45.3</value><value xid=\\'591\\'>45.5</value><value xid=\\'592\\'>45.6</value><value xid=\\'593\\'>45.5</value><value xid=\\'594\\'>45.5</value><value xid=\\'595\\'>45.3</value><value xid=\\'596\\'>45.3</value><value xid=\\'597\\'>45.2</value><value xid=\\'598\\'>44.6</value><value xid=\\'599\\'>44.8</value><value xid=\\'600\\'>44.6</value><value xid=\\'601\\'>44.9</value><value xid=\\'602\\'>44.6</value><value xid=\\'603\\'>44.9</value><value xid=\\'604\\'>44.6</value><value xid=\\'605\\'>44.6</value><value xid=\\'606\\'>44.6</value><value xid=\\'607\\'>44.6</value><value xid=\\'608\\'>45.3</value><value xid=\\'609\\'>45.7</value><value xid=\\'610\\'>46.0</value><value xid=\\'611\\'>46.0</value><value xid=\\'612\\'>46.4</value><value xid=\\'613\\'>47.0</value><value xid=\\'614\\'>47.0</value><value xid=\\'615\\'>47.4</value><value xid=\\'616\\'>48.0</value><value xid=\\'617\\'>47.6</value><value xid=\\'618\\'>47.1</value><value xid=\\'619\\'>47.3</value><value xid=\\'620\\'>47.3</value><value xid=\\'621\\'>47.4</value><value xid=\\'622\\'>47.4</value><value xid=\\'623\\'>47.4</value><value xid=\\'624\\'>47.4</value><value xid=\\'625\\'>47.7</value><value xid=\\'626\\'>47.0</value><value xid=\\'627\\'>47.0</value><value xid=\\'628\\'>46.9</value><value xid=\\'629\\'>47.6</value><value xid=\\'630\\'>48.0</value><value xid=\\'631\\'>47.8</value><value xid=\\'632\\'>47.9</value><value xid=\\'633\\'>47.9</value><value xid=\\'634\\'>47.9</value><value xid=\\'635\\'>47.7</value><value xid=\\'636\\'>47.6</value><value xid=\\'637\\'>47.9</value><value xid=\\'638\\'>47.4</value><value xid=\\'639\\'>47.3</value><value xid=\\'640\\'>47.3</value><value xid=\\'641\\'>47.2</value><value xid=\\'642\\'>47.4</value><value xid=\\'643\\'>48.1</value><value xid=\\'644\\'>48.1</value><value xid=\\'645\\'></value><value xid=\\'646\\'></value><value xid=\\'647\\'></value><value xid=\\'648\\'></value><value xid=\\'649\\'></value><value xid=\\'650\\'></value><value xid=\\'651\\'></value></graph></graphs></chart>'"
      ]
     },
     "execution_count": 2,
     "metadata": {},
     "output_type": "execute_result"
    }
   ],
   "source": [
    "\"\"\"\n",
    "Function\n",
    "--------\n",
    "get_poll_xml\n",
    "\n",
    "Given a poll_id, return the XML data as a text string\n",
    "\n",
    "Inputs\n",
    "------\n",
    "poll_id : int\n",
    "    The ID of the poll to fetch\n",
    "\n",
    "Returns\n",
    "-------\n",
    "xml : str\n",
    "    The text of the XML page for that poll_id\n",
    "\n",
    "Example\n",
    "-------\n",
    ">>> get_poll_xml(1044)\n",
    "u'<?xml version=\"1.0\" encoding=\"UTF-8\"?><chart><series><value xid=\\'0\\'>1/27/2009</value>\n",
    "...etc...\n",
    "\"\"\"    \n",
    "#your code here  \n",
    "\n",
    "def get_poll_xml(poll_id):\n",
    "    url = 'http://charts.realclearpolitics.com/charts/%i.xml'%int(poll_id)\n",
    "    return requests.get(url).text\n",
    "get_poll_xml(1171)"
   ]
  },
  {
   "cell_type": "markdown",
   "metadata": {},
   "source": [
    "Here are some other functions we'll use later. `plot_colors` contains hints about parsing XML data."
   ]
  },
  {
   "cell_type": "code",
   "execution_count": 3,
   "metadata": {
    "collapsed": false
   },
   "outputs": [],
   "source": [
    "# \"r\"egular \"e\"xpressions is kind of a mini-language to\n",
    "# do pattern matching on text\n",
    "import re\n",
    "\n",
    "def _strip(s):\n",
    "    \"\"\"This function removes non-letter characters from a word\n",
    "    \n",
    "    for example _strip('Hi there!') == 'Hi there'\n",
    "    \"\"\"\n",
    "    return re.sub(r'[\\W_]+', '', s)\n",
    "\n",
    "def plot_colors(xml):\n",
    "    \"\"\"\n",
    "    Given an XML document like the link above, returns a python dictionary\n",
    "    that maps a graph title to a graph color.\n",
    "    \n",
    "    Both the title and color are parsed from attributes of the <graph> tag:\n",
    "    <graph title=\"the title\", color=\"#ff0000\"> -> {'the title': '#ff0000'}\n",
    "    \n",
    "    These colors are in \"hex string\" format. This page explains them:\n",
    "    http://coding.smashingmagazine.com/2012/10/04/the-code-side-of-color/\n",
    "    \n",
    "    Example\n",
    "    -------\n",
    "    >>> plot_colors(get_poll_xml(1044))\n",
    "    {u'Approve': u'#000000', u'Disapprove': u'#FF0000'}\n",
    "    \"\"\"\n",
    "    dom = web.Element(xml)\n",
    "    result = {}\n",
    "    for graph in dom.by_tag('graph'):\n",
    "        title = _strip(graph.attributes['title'])\n",
    "        result[title] = graph.attributes['color']\n",
    "    return result"
   ]
  },
  {
   "cell_type": "markdown",
   "metadata": {},
   "source": [
    "---\n",
    "\n",
    "#### Problem 2\n",
    "\n",
    "Even though `get_poll_xml` pulls data from the web into Python, it does so as a block of text. This still isn't very useful. Use the `web` module in `pattern` to parse this text, and extract data into a pandas DataFrame.\n",
    "\n",
    "**Hints**\n",
    "\n",
    "* You might want create python lists for each column in the XML. Then, to turn these lists into a DataFrame, run\n",
    "\n",
    "`pd.DataFrame({'column_label_1': list_1, 'column_label_2':list_2, ...})`\n",
    "\n",
    "* use the pandas function `pd.to_datetime` to convert strings into dates"
   ]
  },
  {
   "cell_type": "code",
   "execution_count": 4,
   "metadata": {
    "collapsed": false
   },
   "outputs": [],
   "source": [
    "\"\"\"\n",
    "    Function\n",
    "    ---------\n",
    "    rcp_poll_data\n",
    "\n",
    "    Extract poll information from an XML string, and convert to a DataFrame\n",
    "\n",
    "    Parameters\n",
    "    ----------\n",
    "    xml : str\n",
    "        A string, containing the XML data from a page like \n",
    "        get_poll_xml(1044)\n",
    "        \n",
    "    Returns\n",
    "    -------\n",
    "    A pandas DataFrame with the following columns:\n",
    "        date: The date for each entry\n",
    "        title_n: The data value for the gid=n graph (take the column name from the `title` tag)\n",
    "        \n",
    "    This DataFrame should be sorted by date\n",
    "        \n",
    "    Example\n",
    "    -------\n",
    "    Consider the following simple xml page:\n",
    "    \n",
    "    <chart>\n",
    "    <series>\n",
    "    <value xid=\"0\">1/27/2009</value>\n",
    "    <value xid=\"1\">1/28/2009</value>\n",
    "    </series>\n",
    "    <graphs>\n",
    "    <graph gid=\"1\" color=\"#000000\" balloon_color=\"#000000\" title=\"Approve\">\n",
    "    <value xid=\"0\">63.3</value>\n",
    "    <value xid=\"1\">63.3</value>\n",
    "    </graph>\n",
    "    <graph gid=\"2\" color=\"#FF0000\" balloon_color=\"#FF0000\" title=\"Disapprove\">\n",
    "    <value xid=\"0\">20.0</value>\n",
    "    <value xid=\"1\">20.0</value>\n",
    "    </graph>\n",
    "    </graphs>\n",
    "    </chart>\n",
    "    \n",
    "    Given this string, rcp_poll_data should return\n",
    "    result = pd.DataFrame({'date': pd.to_datetime(['1/27/2009', '1/28/2009']), \n",
    "                           'Approve': [63.3, 63.3], 'Disapprove': [20.0, 20.0]})\n",
    "\"\"\"\n",
    "#your code here\n"
   ]
  },
  {
   "cell_type": "markdown",
   "metadata": {},
   "source": [
    "The output from `rcp_poll_data` is much more useful for analysis. For example, we can plot with it:"
   ]
  },
  {
   "cell_type": "code",
   "execution_count": 5,
   "metadata": {
    "collapsed": false
   },
   "outputs": [],
   "source": [
    "def poll_plot(poll_id):\n",
    "    \"\"\"\n",
    "    Make a plot of an RCP Poll over time\n",
    "    \n",
    "    Parameters\n",
    "    ----------\n",
    "    poll_id : int\n",
    "        An RCP poll identifier\n",
    "    \"\"\"\n",
    "\n",
    "    # hey, you wrote two of these functions. Thanks for that!\n",
    "    xml = get_poll_xml(poll_id)\n",
    "    data = rcp_poll_data(xml)\n",
    "    colors = plot_colors(xml)\n",
    "\n",
    "    #remove characters like apostrophes\n",
    "    data = data.rename(columns = {c: _strip(c) for c in data.columns})\n",
    "\n",
    "    #normalize poll numbers so they add to 100%    \n",
    "    norm = data[colors.keys()].sum(axis=1) / 100    \n",
    "    for c in colors.keys():\n",
    "        data[c] /= norm\n",
    "    \n",
    "    for label, color in colors.items():\n",
    "        plt.plot(data.date, data[label], color=color, label=label)        \n",
    "        \n",
    "    plt.xticks(rotation=70)\n",
    "    plt.legend(loc='best')\n",
    "    plt.xlabel(\"Date\")\n",
    "    plt.ylabel(\"Normalized Poll Percentage\")"
   ]
  },
  {
   "cell_type": "markdown",
   "metadata": {},
   "source": [
    "If you've done everything right so far, the following code should reproduce the graph on [this page](http://www.realclearpolitics.com/epolls/other/president_obama_job_approval-1044.html)"
   ]
  },
  {
   "cell_type": "code",
   "execution_count": 6,
   "metadata": {
    "collapsed": false
   },
   "outputs": [],
   "source": [
    "poll_plot(1044)\n",
    "plt.title(\"Obama Job Approval\")"
   ]
  },
  {
   "cell_type": "markdown",
   "metadata": {},
   "source": [
    "---\n",
    "\n",
    "## Part 2: Aggregate and Visualize\n"
   ]
  },
  {
   "cell_type": "markdown",
   "metadata": {},
   "source": [
    "#### Problem 3\n",
    "\n",
    "Unfortunately, these data don't have any error bars. If a candidate leads by 10% in the RCP average, is she a shoo-in to win? Or is this number too close to call? Does a 10% poll lead mean more 1 day before a race than it does 1 week before? Without error estimates, these questions are impossible to answer.\n",
    "\n",
    "To get a sense of how accurate the RCP polls are, you will gather data from many previous Governor races, where the outcome is known.\n",
    "\n",
    "This url has links to many governer races. \n",
    "\n",
    "http://www.realclearpolitics.com/epolls/2010/governor/2010_elections_governor_map.html\n",
    "\n",
    "Notice that each link to a governor race has the following URL pattern:\n",
    "\n",
    "http://www.realclearpolitics.com/epolls/[YEAR]/governor/[STATE]/[TITLE]-[ID].html\n",
    "\n",
    "\n",
    "Write a function that scans html for links to URLs like this\n",
    "\n",
    "**Hint** The [fnmatch](http://docs.python.org/2/library/fnmatch.html) function is useful for simple string matching tasks."
   ]
  },
  {
   "cell_type": "code",
   "execution_count": 7,
   "metadata": {
    "collapsed": false
   },
   "outputs": [],
   "source": [
    "\"\"\"\n",
    "    Function\n",
    "    --------\n",
    "    find_governor_races\n",
    "\n",
    "    Find and return links to RCP races on a page like\n",
    "    http://www.realclearpolitics.com/epolls/2010/governor/2010_elections_governor_map.html\n",
    "    \n",
    "    Parameters\n",
    "    ----------\n",
    "    html : str\n",
    "        The HTML content of a page to scan\n",
    "        \n",
    "    Returns\n",
    "    -------\n",
    "    A list of urls for Governer race pages\n",
    "    \n",
    "    Example\n",
    "    -------\n",
    "    For a page like\n",
    "    \n",
    "    <html>\n",
    "    <body>\n",
    "    <a href=\"http://www.realclearpolitics.com/epolls/2010/governor/ma/massachusetts_governor_baker_vs_patrick_vs_cahill-1154.html\"></a>\n",
    "    <a href=\"http://www.realclearpolitics.com/epolls/2010/governor/ca/california_governor_whitman_vs_brown-1113.html\"></a>\n",
    "    </body>\n",
    "    </html>\n",
    "    \n",
    "    find_governor_races would return\n",
    "    ['http://www.realclearpolitics.com/epolls/2010/governor/ma/massachusetts_governor_baker_vs_patrick_vs_cahill-1154.html',\n",
    "     'http://www.realclearpolitics.com/epolls/2010/governor/ca/california_governor_whitman_vs_brown-1113.html']\n",
    "\"\"\"\n",
    "#your code here\n"
   ]
  },
  {
   "cell_type": "markdown",
   "metadata": {},
   "source": [
    "#### Problem 4\n",
    "\n",
    "At this point, you have functions to find a collection of governor races, download historical polling data from each one,\n",
    "parse them into a numerical DataFrame, and plot this data.\n",
    "\n",
    "The main question we have about these data are how accurately they predict election outcomes. To answer this question, we\n",
    "need to grab the election outcome data.\n",
    "\n",
    "Write a function that looks up and returns the election result on a page like [this one](http://www.realclearpolitics.com/epolls/2010/governor/ca/california_governor_whitman_vs_brown-1113.html). \n",
    "\n",
    "**Remember to look at the HTML source!**\n",
    "\n",
    "You can do this by selection `view->developer->view source` in Chrome, or `Tools -> web developer -> page source` in Firefox. Altenatively, you can right-click on a part of the page, and select \"inspect element\""
   ]
  },
  {
   "cell_type": "code",
   "execution_count": 8,
   "metadata": {
    "collapsed": false
   },
   "outputs": [],
   "source": [
    "\"\"\"\n",
    "    Function\n",
    "    --------\n",
    "    race_result\n",
    "\n",
    "    Return the actual voting results on a race page\n",
    "    \n",
    "    Parameters\n",
    "    ----------\n",
    "    url : string\n",
    "        The website to search through\n",
    "        \n",
    "    Returns\n",
    "    -------\n",
    "    A dictionary whose keys are candidate names,\n",
    "    and whose values is the percentage of votes they received.\n",
    "    \n",
    "    If necessary, normalize these numbers so that they add up to 100%.\n",
    "    \n",
    "    Example\n",
    "    --------\n",
    "    >>> url = 'http://www.realclearpolitics.com/epolls/2010/governor/ca/california_governor_whitman_vs_brown-1113.html'\n",
    "    >>> race_result(url)\n",
    "    {'Brown': 56.0126582278481, 'Whitman': 43.9873417721519}\n",
    "\"\"\"\n",
    "#your code here\n"
   ]
  },
  {
   "cell_type": "markdown",
   "metadata": {},
   "source": [
    "Here are some more utility functions that take advantage of what you've done so far."
   ]
  },
  {
   "cell_type": "code",
   "execution_count": 9,
   "metadata": {
    "collapsed": false
   },
   "outputs": [],
   "source": [
    "def id_from_url(url):\n",
    "    \"\"\"Given a URL, look up the RCP identifier number\"\"\"\n",
    "    return url.split('-')[-1].split('.html')[0]\n",
    "\n",
    "\n",
    "def plot_race(url):\n",
    "    \"\"\"Make a plot summarizing a senate race\n",
    "    \n",
    "    Overplots the actual race results as dashed horizontal lines\n",
    "    \"\"\"\n",
    "    #hey, thanks again for these functions!\n",
    "    id = id_from_url(url)\n",
    "    xml = get_poll_xml(id)    \n",
    "    colors = plot_colors(xml)\n",
    "\n",
    "    if len(colors) == 0:\n",
    "        return\n",
    "    \n",
    "    #really, you shouldn't have\n",
    "    result = race_result(url)\n",
    "    \n",
    "    poll_plot(id)\n",
    "    plt.xlabel(\"Date\")\n",
    "    plt.ylabel(\"Polling Percentage\")\n",
    "    for r in result:\n",
    "        plt.axhline(result[r], color=colors[_strip(r)], alpha=0.6, ls='--')\n"
   ]
  },
  {
   "cell_type": "markdown",
   "metadata": {},
   "source": [
    "Now that this is done, we can easily visualize many historical Governer races. The solid line plots the poll history, the dotted line reports the actual result.\n",
    "\n",
    "If this code block fails, you probably have a bug in one of your functions."
   ]
  },
  {
   "cell_type": "code",
   "execution_count": 10,
   "metadata": {
    "collapsed": false
   },
   "outputs": [],
   "source": [
    "page = requests.get('http://www.realclearpolitics.com/epolls/2010/governor/2010_elections_governor_map.html').text.encode('ascii', 'ignore')\n",
    "\n",
    "for race in find_governor_races(page):\n",
    "    plot_race(race)\n",
    "    plt.show()"
   ]
  },
  {
   "cell_type": "markdown",
   "metadata": {},
   "source": [
    "Briefly summarize these graphs -- how accurate is the typical poll a day before the election? How often does a prediction one month before the election mispredict the actual winner?"
   ]
  },
  {
   "cell_type": "markdown",
   "metadata": {},
   "source": [
    "**Your summary here**"
   ]
  },
  {
   "cell_type": "markdown",
   "metadata": {},
   "source": [
    "---\n",
    "\n",
    "## Part 3: Analysis\n",
    "\n",
    "#### Problem 5\n",
    "\n",
    "You are (finally!) in a position to do some quantitative analysis.\n",
    "\n",
    "We have provided an `error_data` function that builds upon the functions you have written. It computes a new DataFrame with information about polling errors.\n",
    "\n",
    "Use `error_data`, `find_governer_races`, and `pd.concat` to construct a Data Frame summarizing the forecast errors\n",
    "from all the Governor races\n",
    "\n",
    "**Hint** \n",
    "\n",
    "It's best to set `ignore_index=True` in `pd.concat`"
   ]
  },
  {
   "cell_type": "code",
   "execution_count": 11,
   "metadata": {
    "collapsed": false
   },
   "outputs": [],
   "source": [
    "def party_from_color(color):\n",
    "    if color in ['#0000CC', '#3B5998']:\n",
    "        return 'democrat'\n",
    "    if color in ['#FF0000', '#D30015']:\n",
    "        return 'republican'\n",
    "    return 'other'\n",
    "\n",
    "\n",
    "def error_data(url):\n",
    "    \"\"\"\n",
    "    Given a Governor race URL, download the poll data and race result,\n",
    "    and construct a DataFrame with the following columns:\n",
    "    \n",
    "    candidate: Name of the candidate\n",
    "    forecast_length: Number of days before the election\n",
    "    percentage: The percent of poll votes a candidate has.\n",
    "                Normalized to that the canddidate percentages add to 100%\n",
    "    error: Difference between percentage and actual race reulst\n",
    "    party: Political party of the candidate\n",
    "    \n",
    "    The data are resampled as necessary, to provide one data point per day\n",
    "    \"\"\"\n",
    "    \n",
    "    id = id_from_url(url)\n",
    "    xml = get_poll_xml(id)\n",
    "    \n",
    "    colors = plot_colors(xml)\n",
    "    if len(colors) == 0:\n",
    "        return pd.DataFrame()\n",
    "    \n",
    "    df = rcp_poll_data(xml)\n",
    "    result = race_result(url)\n",
    "    \n",
    "    #remove non-letter characters from columns\n",
    "    df = df.rename(columns={c: _strip(c) for c in df.columns})\n",
    "    for k, v in result.items():\n",
    "        result[_strip(k)] = v \n",
    "    \n",
    "    candidates = [c for c in df.columns if c is not 'date']\n",
    "        \n",
    "    #turn into a timeseries...\n",
    "    df.index = df.date\n",
    "    \n",
    "    #...so that we can resample at regular, daily intervals\n",
    "    df = df.resample('D')\n",
    "    df = df.dropna()\n",
    "    \n",
    "    #compute forecast length in days\n",
    "    #(assuming that last forecast happens on the day of the election, for simplicity)\n",
    "    forecast_length = (df.date.max() - df.date).values\n",
    "    forecast_length = forecast_length / np.timedelta64(1, 'D')  # convert to number of days\n",
    "    \n",
    "    #compute forecast error\n",
    "    errors = {}\n",
    "    normalized = {}\n",
    "    poll_lead = {}\n",
    "    \n",
    "    for c in candidates:\n",
    "        #turn raw percentage into percentage of poll votes\n",
    "        corr = df[c].values / df[candidates].sum(axis=1).values * 100.\n",
    "        err = corr - result[_strip(c)]\n",
    "        \n",
    "        normalized[c] = corr\n",
    "        errors[c] = err\n",
    "        \n",
    "    n = forecast_length.size\n",
    "    \n",
    "    result = {}\n",
    "    result['percentage'] = np.hstack(normalized[c] for c in candidates)\n",
    "    result['error'] = np.hstack(errors[c] for c in candidates)\n",
    "    result['candidate'] = np.hstack(np.repeat(c, n) for c in candidates)\n",
    "    result['party'] = np.hstack(np.repeat(party_from_color(colors[_strip(c)]), n) for c in candidates)\n",
    "    result['forecast_length'] = np.hstack(forecast_length for _ in candidates)\n",
    "    \n",
    "    result = pd.DataFrame(result)\n",
    "    return result"
   ]
  },
  {
   "cell_type": "code",
   "execution_count": 12,
   "metadata": {
    "collapsed": false
   },
   "outputs": [],
   "source": [
    "\"\"\"\n",
    "function\n",
    "---------\n",
    "all_error_data\n",
    "\n",
    "Calls error_data on all races from find_governer_races(page),\n",
    "and concatenates into a single DataFrame\n",
    "\n",
    "Parameters\n",
    "-----------\n",
    "None\n",
    "\n",
    "Examples\n",
    "--------\n",
    "df = all_error_data()\n",
    "\"\"\"\n",
    "#your code here\n"
   ]
  },
  {
   "cell_type": "code",
   "execution_count": 13,
   "metadata": {
    "collapsed": false
   },
   "outputs": [],
   "source": [
    "errors = all_error_data()"
   ]
  },
  {
   "cell_type": "markdown",
   "metadata": {},
   "source": [
    "Here's a histogram of the error of every polling measurement in the data"
   ]
  },
  {
   "cell_type": "code",
   "execution_count": 14,
   "metadata": {
    "collapsed": false
   },
   "outputs": [],
   "source": [
    "errors.error.hist(bins=50)\n",
    "plt.xlabel(\"Polling Error\")\n",
    "plt.ylabel('N')"
   ]
  },
  {
   "cell_type": "markdown",
   "metadata": {},
   "source": [
    "### Problem 6\n",
    "\n",
    "Compute the standard deviation of the polling errors. How much uncertainty is there in the typical RCP poll?"
   ]
  },
  {
   "cell_type": "code",
   "execution_count": 15,
   "metadata": {
    "collapsed": false
   },
   "outputs": [],
   "source": [
    "#your code here\n"
   ]
  },
  {
   "cell_type": "markdown",
   "metadata": {},
   "source": [
    "### Problem 7\n",
    "\n",
    "Repeat this calculation for the data where `errors.forecast_length < 7` (i.e. the polls within a week of an election). How much more/less accurate are they? How about the data where `errors.forecast_length > 30`? \n",
    "\n",
    "**Comment on this in 1 or 2 sentences**. Does this make sense?"
   ]
  },
  {
   "cell_type": "code",
   "execution_count": 16,
   "metadata": {
    "collapsed": false
   },
   "outputs": [],
   "source": [
    "#your code here\n"
   ]
  },
  {
   "cell_type": "markdown",
   "metadata": {},
   "source": [
    "### Problem 8\n",
    "\n",
    "**Bootstrap resampling** is a general purpose way to use empirical data like the `errors` DataFrame to estimate uncertainties. For example, consider the [Viriginia Governor Race](http://www.realclearpolitics.com/epolls/2013/governor/va/virginia_governor_cuccinelli_vs_mcauliffe-3033.html). If we wanted to estimate how likey it is that McAuliffe will win given the current RCP data, the approch would be:\n",
    "\n",
    "1. Pick a large number N of experiments to run (say N=1000).\n",
    "2. For each experiment, randomly select a value from `errors.error`. We are assuming that these numbers represent a reasonable error distribution for the current poll data.\n",
    "3. Assume that the error on McAullife's current polling score is given by this number (and, by extension, the error on Cuccinelli's poll score is the opposite). Calculate who actually wins the election in this simulation.\n",
    "4. Repeat N times, and calculate the percentage of simulations where either candidate wins.\n",
    "\n",
    "Bootstrapping isn't foolproof: it makes the assumption that the previous Governor race errors are representative of the Virginia race, and it does a bad job at estimating very rare events (with only ~30 races in the errors DataFrame, it would be hard to accurately predict probabilities for 1-in-a-million scenarios). Nevertheless, it's a versatile technique.\n",
    "\n",
    "Use bootstrap resampling to estimate how likely it is that each candidate could win the following races.\n",
    "\n",
    " * [Virginia Governor](http://www.realclearpolitics.com/epolls/2013/governor/va/virginia_governor_cuccinelli_vs_mcauliffe-3033.html)\n",
    " * [New Jersey Governor](http://www.realclearpolitics.com/epolls/2013/governor/nj/new_jersey_governor_christie_vs_buono-3411.html)\n",
    " \n",
    "**Summarize your results in a paragraph. What conclusions do you draw from the bootstrap analysis, and what assumptions did you make in reaching this conclusion. What are some limitations of this analysis?**\n",
    " "
   ]
  },
  {
   "cell_type": "code",
   "execution_count": 17,
   "metadata": {
    "collapsed": false
   },
   "outputs": [],
   "source": [
    "#your code here\n"
   ]
  },
  {
   "cell_type": "markdown",
   "metadata": {},
   "source": [
    "**Your summary here**"
   ]
  },
  {
   "cell_type": "markdown",
   "metadata": {},
   "source": [
    "## Parting Thoughts\n",
    "\n",
    "For comparison, most of the predictions in Nate Silver's [presidental forecast](http://fivethirtyeight.blogs.nytimes.com/fivethirtyeights-2012-forecast/) had confidences of >95%. This is more precise than what we can estimate from the RCP poll alone. His approach, however, is the same basic idea (albeit he used many more polls, and carefully calibrated each based on demographic and other information). Homework 2 will dive into some of his techniques further.\n",
    "\n",
    "\n",
    "## How to submit\n",
    "\n",
    "To submit your homework, create a folder named lastname_firstinitial_hw0 and place this notebook file in the folder. If your notebook requires any additional data files to run (it shouldn't), add them to this directory as well. Compress the folder (please use .zip compression) and submit to the CS109 dropbox in the appropriate folder. If we cannot access your work because these directions are not followed correctly, we will not grade your work."
   ]
  },
  {
   "cell_type": "markdown",
   "metadata": {},
   "source": [
    "---\n",
    "*css tweaks in this cell*\n",
    "<style>\n",
    "div.text_cell_render {\n",
    "    line-height: 150%;\n",
    "    font-size: 110%;\n",
    "    width: 800px;\n",
    "    margin-left:50px;\n",
    "    margin-right:auto;\n",
    "    }\n",
    "</style>"
   ]
  }
 ],
 "metadata": {
  "kernelspec": {
   "display_name": "Python 2",
   "language": "python",
   "name": "python2"
  },
  "language_info": {
   "codemirror_mode": {
    "name": "ipython",
    "version": 2
   },
   "file_extension": ".py",
   "mimetype": "text/x-python",
   "name": "python",
   "nbconvert_exporter": "python",
   "pygments_lexer": "ipython2",
   "version": "2.7.11"
  }
 },
 "nbformat": 4,
 "nbformat_minor": 0
}
